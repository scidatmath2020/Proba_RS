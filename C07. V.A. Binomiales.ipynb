{
 "cells": [
  {
   "cell_type": "markdown",
   "metadata": {},
   "source": [
    "<img src=\"logo.png\">"
   ]
  },
  {
   "cell_type": "markdown",
   "metadata": {},
   "source": [
    "Hemos llegado rumbo a la tercera parte del curso. A partir de ahora nos enfocaremos en cada capítulo en estudiar diferentes de tipos de variables aleatorias. \n",
    "\n",
    "En este capítulo aprenderemos sobre variables aleatorias binomiales."
   ]
  },
  {
   "cell_type": "markdown",
   "metadata": {},
   "source": [
    "# Variables aleatorias binomiales\n",
    "\n",
    "\n",
    "Considera un experimento y realízalo $n$ veces, cada realización idependiente de las otras. Supongamos que por cada realización, solo se pueden dar dos eventos: éxito o fracaso.\n",
    "\n",
    "Como las realizaciones son independientes, la probabilidad obtener éxito en cada paso es la misma. Digamos $p$, y por lo tanto, la probabilidad de fracaso es $1-p$.\n",
    "\n",
    "Sea $X$ el total de éxitos obtenidos en las $n$ repeticiones. Entonces $X$ es una variable aleatoria binomial, y se denota por $$X\\sim\\mathrm{Bin}(n,p)$$"
   ]
  },
  {
   "cell_type": "markdown",
   "metadata": {},
   "source": [
    "## Características.\n",
    "\n",
    "Si $X\\sim\\mathrm{Bin}(n,p)$, entonces:\n",
    "\n",
    "$$f_X(x)=P(X=x)=\\binom{n}{x}p^x(1-p)^{n-x}$$\n",
    "\n",
    "Además $E[X]=np$ y $Var(X)=np(1-p)$"
   ]
  },
  {
   "cell_type": "markdown",
   "metadata": {},
   "source": [
    "## Binomial en R\n",
    "\n",
    "En **R**, las funciones relacionadas con la distribución binomial son las siguientes:\n",
    "\n",
    "Función|Descripción|\n",
    "--|--|\n",
    "dbinom|$f_X$|\n",
    "pbinom|$F_X$|\n",
    "qbinom|cuantiles|\n",
    "rbinom|simulación\n",
    "\n",
    "De esta manera, se tiene:\n",
    "\n",
    "- $f_X(x)=$`dbinom(x,n,p)`\n",
    "\n",
    "- $F_X(x)=$ ``pbinom(x,n,p)``. \n",
    "\n",
    "- Si debes resolver la ecuación $P(X\\le x)=c$, entonces utilizas ``qbinom(c,n,p)`` \n",
    "\n",
    "- Si vas a realizar $N$ observaciones de una binomial (es decir, vas a medir $N$ veces cuántos éxitos hay en $n$ repeticiones donde la probabilidad de éxito es $p$), utilizas ``rbinom(N,n,p)``"
   ]
  },
  {
   "cell_type": "markdown",
   "metadata": {},
   "source": [
    "**Ejemplo 7.1**\n",
    "\n",
    "Suponga que hay doce preguntas de opción múltiple en un examen de matemáticas, donde ninguna depende de la otra. Cada pregunta tiene cinco posibles respuestas, y sólo una de ellas es correcta. Cada pregunta tiene el mismo valor.\n",
    "\n",
    "- Encuentre la probabilidad de tener cuatro o menos respuestas correctas si un estudiante intenta responder a cada pregunta al azar.\n",
    "\n",
    "- ¿Cuál es la probabilidad de tener menos de 4 respuestas correctas?\n",
    "\n",
    "- ¿Cuál es la probabilidad de tener 3 o cuatro respuestas correctas?\n",
    "\n",
    "- ¿Cuántas respuestas correctas se espera tener? ¿Cuánto espera obtener como calificación?\n",
    "\n",
    "- ¿Cuál es la probabilidad de tener 4 o mas respuestas correctas?\n",
    "\n",
    "- ¿Cuál es la probabilidad de tener mas de 4 respuestas correctas?\n",
    "\n",
    "\n",
    "**Solución.**\n",
    "Notemos que hay $n=12$ preguntas independientes. Cada una tiene probabilidad de éxito de $p=\\frac{1}{5}=0.2$. Si $X$ es el número de respuestas correctas, entonces $X\\sim\\mathrm{Binom}(n=12,p=0.2)$.\n",
    "\n",
    "- Nos piden $P(X\\le4)=F_X(4)$. Esto es\n",
    "\n",
    "$$\\binom{12}{0}0.2^0\\cdot0.8^{12}+\\binom{12}{1}0.2^1\\cdot0.8^{11}+\\binom{12}{2}0.2^2\\cdot0.8^{10}+\\binom{12}{3}0.2^3\\cdot0.8^{9}+\\binom{12}{4}0.2^4\\cdot0.8^{8}$$\n",
    "\n",
    "Es decir, ``pbinom(4,12,0.2)``\n",
    "\n",
    "- Nos piden $P(X<4)=P(X\\le 3)=$``pbinom(3,12,0.2)``\n",
    "\n",
    "- Nos piden $P(X=3)+P(X=4)$. Esto es $f_X(3)+f_X(4)$; es decir ``dbinom(3,12,0.2)+dbinom(4,12,0.2)``\n",
    "\n",
    "\n",
    "\n",
    "- Como $E[X]=np$, entonces se espera tener $0.2\\times12=2.4$ respuestas correctas.\n",
    "\n",
    "- Nos piden $P(X\\ge 4)=1-P(X<4)=1-P(X\\le 3)=$``1-pbinom(3,12,0.2)``\n",
    "\n",
    "- Nos piden $P(X>4)=1-P(X\\le 4)=$``1-pbinom(4,12,0.2)``\n",
    "\n"
   ]
  },
  {
   "cell_type": "markdown",
   "metadata": {},
   "source": [
    "**Ejemplo 7.2**\n",
    "\n",
    "Supongamos que la empresa A fabricó un producto B con una probabilidad de 0.005 de ser defectuoso. Suponga que el producto B se envía en una caja que contiene 25 artículos.\n",
    "\n",
    "- ¿Cuál es la probabilidad de que una caja elegida al azar contenga exactamente un producto defectuoso?\n",
    "\n",
    "- ¿Cuál es la probabilidad de que una caja elegida al azar no contenga más de un artículo defectuoso?\n",
    "\n",
    "- ¿Cuál es la probabilidad de que una caja elegida al azr contenga 3 o más artículos defectusos?"
   ]
  },
  {
   "cell_type": "markdown",
   "metadata": {},
   "source": [
    "**Solución.**\n",
    "\n",
    "Supongamos que la calidad de ser o no defectuoso de un artículo es independiente de la calidad de cualquier otro. Si $X$ es el número de defectuosos en la caja, entonces $X\\sim\\mathrm{Binom}(n=25,p=0.005)$.\n",
    "\n",
    "- Nos piden $P(X=1)$. Esto es $f_X(1)=$``dbinom(1,25,0.005)``\n",
    "\n",
    "- Nos piden $P(X\\le 1)$. Esto es $F_X(1)=$``pbinom(1,25,0.005)``\n",
    "\n",
    "- Nos piden $P(X\\ge 3)=1-P(X<3)=1-P(X\\le 2)=$``1-pbinom(2,25,0.005)``"
   ]
  },
  {
   "cell_type": "markdown",
   "metadata": {},
   "source": [
    "**Ejemplo 7.3**\n",
    "\n",
    "Una compañía de seguros reporta que el 7% de la población muere por cierto tipo de accidente. ¿Cuál es la probabilidad de que deba pagar 5 o más polizas de seguro por este tipo de accidente si tiene 10,000 asegurados?"
   ]
  },
  {
   "cell_type": "markdown",
   "metadata": {},
   "source": [
    "**Ejemplo 7.4**\n",
    "\n",
    "El 13% de la población es zurda. Se seleccionar 5 personas al azar.\n",
    "\n",
    "- ¿Cuál es la probabilidad de que hayan 3 zurdos en el grupo?\n",
    "\n",
    "- ¿Cuál es la probabilidad de hayan zurdos en el grupo?\n",
    "\n",
    "- ¿Cuál es la probabilidad de que hayan al menos tres zurdos en el grupo?"
   ]
  },
  {
   "cell_type": "markdown",
   "metadata": {},
   "source": [
    "**Ejemplo 7.5**\n",
    "\n",
    "Una fábrica que produce playeras tiene una probabilidad de producir una playera defectuosa del 4%. Es contratada por un local de ventas que le comprará un lote de 200 de sus playeras siempre que el 95% de ellas esté en buenas condiciones. \n",
    "\n",
    "¿Cuántas playeras defectuosas puede la fábrica darse el lujo de enviar en el lote? "
   ]
  },
  {
   "cell_type": "markdown",
   "metadata": {},
   "source": [
    "**Solución.**\n",
    "\n",
    "Notemos que si $X$ es el número de playeras defectuosas en el lote, entonces $X\\sim\\mathrm{Binom}(n=200,p=0.04)$. Si $x$ es el mayor número de playeras defectuosas que se pueden enviar, entonces cumple $P(X\\le x)=0.05$.\n",
    "\n",
    "Por lo tanto se busca aproximadamente ``qbinom(0.05,200,0.04)``"
   ]
  },
  {
   "cell_type": "markdown",
   "metadata": {},
   "source": [
    "**Ejemplo 7.6**\n",
    "\n",
    "Se sabe que el 20% de los hogares tiene tiene un perro. Se eligen 10 casas al azar. \n",
    "\n",
    "- ¿Cuál es la probabilidad de que ese hogar tenga un perro?\n",
    "- ¿Cuál es la probabildiad de que en ese hogar no hayan mas de tres perros?"
   ]
  },
  {
   "cell_type": "markdown",
   "metadata": {},
   "source": [
    "**Ejemplo 7.7**\n",
    "\n",
    "Tu cereal favorito asegura que 1 de cada 4 cajas tiene un premio. Si compras 6 cajas, ¿cuál es la probabilidad de que ganes exactamente 2 premios?"
   ]
  },
  {
   "cell_type": "markdown",
   "metadata": {},
   "source": [
    "**Ejemplo 7.8**\n",
    "\n",
    "Marta mete el 90% de los tiros libres que intenta. Va a lanzar 3 tiros libres. Suponga que los resultados de los tiros libres son independientes entre sí. Calcula la probabilidad de que Marta enceste al menos 2 de los 3 tiros libres."
   ]
  },
  {
   "cell_type": "markdown",
   "metadata": {},
   "source": [
    "**Ejemplo 7.9**\n",
    "\n",
    "El 70% de ciertas especies de tomate viven después de trasplantarlas de una maceta a un jardín. Luis trasplanta 3 de estas plantas de tomate. Suponga que las plantas viven independientemente unas de otras. ¿Cuál es la probabilidad de que exactamente dos de las tres plantas vivan?"
   ]
  },
  {
   "cell_type": "markdown",
   "metadata": {},
   "source": [
    "**Ejemplo 7.10**\n",
    "\n",
    "Layla tiene una moneda que tiene un 60% de posibilidades de salir cara cada vez que se lanza. Va a lanzar la moneda 5 veces. \n",
    "¿Cuál es la probabilidad de que obtenga más de 3 caras?"
   ]
  },
  {
   "cell_type": "markdown",
   "metadata": {},
   "source": [
    "**Ejemplo 7.11**\n",
    "\n",
    "Una moneda se lanza cuatro veces. ¿Cuál es la probabilidad de obtener más águilas que soles?"
   ]
  },
  {
   "cell_type": "markdown",
   "metadata": {},
   "source": [
    "**Ejemplo 7.12**\n",
    "\n",
    "Si, de seis a siete de la tarde, una línea telefónica de cada cinco está en uso, ¿cuál es la probabilidad de que cuando se escojan al azar 10 números de teléfono, sólo dos estén en uso?"
   ]
  },
  {
   "cell_type": "markdown",
   "metadata": {},
   "source": [
    "**Ejemplo 7.13**\n",
    "\n",
    "La probabilidad de que un hombre dé en el blanco en un campo de tiro es 1/4. Si dispara 10 veces, ¿cuál es la probabilidad de que dé en el blanco exactamente tres veces? ¿Cuál es la probabilidad de que dé en el blanco al menos una vez?"
   ]
  },
  {
   "cell_type": "markdown",
   "metadata": {},
   "source": [
    "**Ejemplo 7.14**\n",
    "\n",
    "Un laboratorio farmacéutico afirma que un fármaco provoca efectos secundarios negativos en 3 de cada 100 pacientes. Para confirmar esta afirmación, otro laboratorio elige al azar a 5 personas que hayan consumido la droga. ¿Cuál es la probabilidad de los siguientes eventos?\n",
    "\n",
    "1. Ninguno de los cinco pacientes experimenta efectos secundarios.\n",
    "\n",
    "2. Al menos dos experimentan efectos secundarios.\n",
    "\n",
    "3. ¿Cuál es el número promedio de pacientes que el laboratorio debe esperar que experimenten efectos secundarios si elige 100 pacientes al azar?"
   ]
  }
 ],
 "metadata": {
  "kernelspec": {
   "display_name": "R",
   "language": "R",
   "name": "ir"
  },
  "language_info": {
   "codemirror_mode": "r",
   "file_extension": ".r",
   "mimetype": "text/x-r-source",
   "name": "R",
   "pygments_lexer": "r",
   "version": "3.6.1"
  }
 },
 "nbformat": 4,
 "nbformat_minor": 4
}
