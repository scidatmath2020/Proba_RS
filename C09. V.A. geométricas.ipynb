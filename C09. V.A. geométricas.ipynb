{
 "cells": [
  {
   "cell_type": "markdown",
   "metadata": {},
   "source": [
    "<img src=\"logo.png\">"
   ]
  },
  {
   "cell_type": "markdown",
   "metadata": {},
   "source": [
    "# Variables aleatorias geométricas\n",
    "\n",
    "Considera, tal como en el caso de v.a. binomial, el caso en que realizas un mismo experimento varias veces, con la diferencia de que puedes realizar tantas veces como requieras. Supongamos que tienes solo dos eventos en cada repetición: éxito o fracaso. Además, el resultado es cada repetición es independiente de los demás resultados. De esta manera, sea $p$ la probabilidad de éxito en cada repetición.\n",
    "\n",
    "Si $X$ denota el número de intentos fracasados antes de obtener el primer éxito (y por lo tanto $X=0,1,2,3,...$), entonces $X$ es una variable aleatoria geométrica y se denota por \n",
    "\n",
    "$$X\\sim\\mathrm{Geom}(p)$$\n"
   ]
  },
  {
   "cell_type": "markdown",
   "metadata": {},
   "source": [
    "## Características\n",
    "\n",
    "Si $X\\sim\\mathrm{Geom}(p)$ entonces \n",
    "\n",
    "$$f_X(x)=P(X=x)=p(1-p)^x$$\n",
    "\n",
    "Además $E[X]=\\frac{1-p}{p}$ y $Var(X)=\\frac{1-p}{p^2}$"
   ]
  },
  {
   "cell_type": "markdown",
   "metadata": {},
   "source": [
    "## Observación\n",
    "\n",
    "Es importante notar que, si $X$ es una binomial negativa (y por lo tanto mide cuántos fracasos tener antes del primer éxito), tiene una propiedad de pérdida de memoria, ya que las repeticiones del experimento son independientes entre sí.\n",
    "\n",
    "Esto significa que si ya tuviste $i$ fracasos y haces otros $j$ intentos, no importa que hayas fracasado antes $i$ veces. En símbolos: \n",
    "\n",
    "$$P(X\\ge i+j|X\\ge i)=P(X\\ge j)$$"
   ]
  },
  {
   "cell_type": "markdown",
   "metadata": {},
   "source": [
    "## Geométrica en R\n",
    "\n",
    "En **R**, las funciones relacionadas con la distribución geométrica son las siguientes:\n",
    "\n",
    "Función|Descripción|Significado|\n",
    "--|--|--|\n",
    "dgeom|$f_X$|$P(X=x)$|\n",
    "pgeom|$F_X$|$P(X\\le x)$|\n",
    "qgeom|cuantiles||\n",
    "rgeom|simulación||\n",
    "\n",
    "De esta manera, se tiene:\n",
    "\n",
    "- $f_X(x)=$`dgeom(x,p)`\n",
    "\n",
    "- $F_X(x)=$ ``pgeom(x,p)``. \n",
    "\n",
    "- Si debes resolver la ecuación $P(X\\le x)=c$, entonces utilizas ``qgeom(c,p)`` \n",
    "\n",
    "- Si vas a realizar $N$ observaciones de una geométrica (es decir, vas a medir $N$ veces cuántos fracasos vas a tener antes de tu primer éxito), utilizas ``rgeom(N,p)``"
   ]
  },
  {
   "cell_type": "markdown",
   "metadata": {},
   "source": [
    "**Ejemplo 9.1**\n",
    "\n",
    "La probabilidad de una alineación óptica con éxito en el montaje de un producto óptico, según especificaciones para su almacenamiento, es de 0.8. Suponga que los intentos de montaje son independientes.\n",
    "\n",
    "1. ¿Cuál es la probabilidad de que la alineación con éxito se produzca por primera vez en el quinto ensayo?\n",
    "2. ¿Cuál es la probabilidad de que la primera alineación con éxito requiera como mínimo cuatro intentos?\n",
    "3. ¿Cuál es la probabilidad de que la primera alineación con éxito requiera a lo menos cuatro y a lo más 6 intentos?\n",
    "4. ¿Cuántos intentos se espera realizar para lograr el primer éxito?\n"
   ]
  },
  {
   "cell_type": "markdown",
   "metadata": {},
   "source": [
    "**Ejemplo 9.2**\n",
    "\n",
    "Un científico inocula varias ratas, una a la vez, con un germen de cierta enfermedad hasta lograr una que la haya contraído. Si la probabilidad de contraer la enfermedad es 1/6,\n",
    "\n",
    "1. ¿Cuál es la probabilidad de que se requieran 8 inoculaciones hasta encontrar una rata que haya contraído la enfermedad?\n",
    "2. ¿Cuál es la probabilidad de que por primera vez a lo más en la cuarta inoculación se encuentre una rata que haya contraído la enfermedad?\n",
    "3. ¿Cuál es la probabilidad de que se requiera como mínimo cinco inoculaciones para encontrar la primera rata que haya contraído la enfermedad?\n",
    "4. ¿Cuál es la probabilidad de que se requiera a lo menos cuatro y a lo más 6 inoculaciones para encontrar la primera rata que haya contraído la enfermedad?\n",
    "5. ¿Cuántos intentos se espera realizar para encontrar la primera rata que haya contraído la enfermedad?"
   ]
  },
  {
   "cell_type": "markdown",
   "metadata": {},
   "source": [
    "**Ejemplo 9.3**\n",
    "\n",
    "En un estudio clínico, los voluntarios son puestos a prueba de un gen que se ha encontrado que aumenta el riesgo de contraer una enfermedad. La probabilidad de que una persona sea portadora del gen es de 0.1.\n",
    "\n",
    "1. ¿Cuál es la probabilidad de tener que probar 4 o más personas para detectar un portador del gen?\n",
    "2. ¿Cuántas personas se espera probar para detectar un portador del gen?"
   ]
  },
  {
   "cell_type": "markdown",
   "metadata": {},
   "source": [
    "**Ejemplo 9.4**\n",
    "\n",
    "Supongamos que cada una de las llamadas a una popular emisora de radio tiene una probabilidad de 0.02 de obtener conexión (es decir, de no obtener una señal de ocupado). Suponga que las llamadas son independientes.\n",
    "\n",
    "1. ¿Cuál es la probabilidad de que la primera llamada que se conecta sea la décima que se realiza?\n",
    "2. ¿Cuál es la probabilidad de que se requiera más de cinco llamadas para que usted pueda conectarse? \n",
    "3. ¿Cuál es el número medio de llamadas necesarias para conectarse? "
   ]
  },
  {
   "cell_type": "markdown",
   "metadata": {},
   "source": [
    "**Ejemplo 9.5**\n",
    "\n",
    "En su viaje de cada mañana al trabajo, un particular semáforo está de color verde el 20% de las veces en usted se acerca en su vehículo a él. Supongamos que cada mañana representa un evento independiente.\n",
    "\n",
    "1. ¿Cuál es la probabilidad de que hayan pasado más de cinco mañanas hasta que usted se encuentre con el semáforo en verde? \n",
    "2. ¿Cuál es la probabilidad de que hayan pasado veinte mañanas hasta que usted se encuentre con el semáforo en verde?\n",
    "3. ¿Cuál es la probabilidad de que hayan pasado más de veinte mañanas hasta que usted se encuentre con el semáforo en verde? \n",
    "4. ¿Cuál es la probabilidad de que la primera mañana en que la luz esté en verde sea la cuarta mañana en que usted se aproxima al semáforo?"
   ]
  },
  {
   "cell_type": "markdown",
   "metadata": {},
   "source": [
    "**Ejemplo 9.6**\n",
    "\n",
    "La probabilidad de que un alumno pase la prueba escrita para una licencia de piloto privado, después de haber seguido un curso, es de 0.7. Encuentre la probabilidad de que el estudiante pase la prueba\n",
    "\n",
    "1. en el tercer intento. \n",
    "2. antes del cuarto intento.  "
   ]
  },
  {
   "cell_type": "markdown",
   "metadata": {},
   "source": [
    "**Ejemplo 9.7**\n",
    "\n",
    "En el control de equipaje de un aeropuerto se sabe que el 3% de las personas revisadas tienen objetos cuestionables en su equipaje.\n",
    "\n",
    "1. ¿Cuál es la probabilidad de que una cadena de 15 personas pase el control con éxito antes de que pase un individuo con un objeto cuestionable? \n",
    "2. ¿Cuál es el número esperado de individuos que pasan el control en una fila antes de que un individuo detenga el proceso?"
   ]
  }
 ],
 "metadata": {
  "kernelspec": {
   "display_name": "R",
   "language": "R",
   "name": "ir"
  },
  "language_info": {
   "codemirror_mode": "r",
   "file_extension": ".r",
   "mimetype": "text/x-r-source",
   "name": "R",
   "pygments_lexer": "r",
   "version": "3.6.1"
  }
 },
 "nbformat": 4,
 "nbformat_minor": 4
}
