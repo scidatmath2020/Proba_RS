{
 "cells": [
  {
   "cell_type": "markdown",
   "metadata": {},
   "source": [
    "<img src=\"logo.png\">"
   ]
  },
  {
   "cell_type": "markdown",
   "metadata": {},
   "source": [
    "# Otras v.a. discretas\n",
    "\n",
    "Existen otras variables aleatorias discretas que, por causas de tiempo, no hemos estudiado pero son de suma importancia."
   ]
  },
  {
   "cell_type": "markdown",
   "metadata": {},
   "source": [
    "## V.A. Bernoulli\n",
    "\n",
    "Si haces un experimento una sola vez y solo puedes obtener éxito o fracaso, siendo $p$ la probabilidad de éxito, se dice que tu variable aleatoria es de tipo Bernoulli y solo toma dos valores: 1, si hay éxito; 0 si hay fracaso.\n",
    "\n",
    "**Ejemplo 10.1**\n",
    "\n",
    "Lanzar una moneda al aire; sabiendo que la probabilidad de obtener cara es $p$ y definiendo $X$ como 1 si cae cara y 0 si cae sol.\n",
    "\n",
    "Si eres observador, notarás que **todas** las variables aleatorias discretas que hemos estudiado en los tres capítulos previos están relacionadas con las v.a. de Bernoulli: en cada una de ellas se pedía realizar el experimento varias veces; el resultado obtenido en cada repetición es precisamente una Bernoulli."
   ]
  },
  {
   "cell_type": "markdown",
   "metadata": {},
   "source": [
    "## V.A. Uniforme discreta\n",
    "\n",
    "Cuando tienes un experimento con espacio muestral $S=\\{a_1,a_2,...,a_n\\}$, si cada singulete tiene la misma probabilidad de ocurrir (y por lo tanto la probabilidad de que ocurra cualquiera de los singuletes es $\\frac{1}{n}$), entonces estás en la situación de una uniforme discreta.\n",
    "\n",
    "**Ejemplo 10.2**\n",
    "\n",
    "Cuando lanzas un dado justo de seis caras, como cada cara tiene la misma probabilidad de salir, entonces si $X$ es la cara que sale, tiene que $X$ es uniforme discreta."
   ]
  },
  {
   "cell_type": "markdown",
   "metadata": {},
   "source": [
    "## V.A. multinomiales\n",
    "\n",
    "En las v.a. binomiales nos interesaba saber cuántos éxitos hay cuando repetimos un experimento $n$ veces con la condición de que las repeticiones fueran independientes.\n",
    "\n",
    "Esta idea se puede generalizar: realiza un experimento $n$ veces con la condición de que las repeticiones son independientes. Supongamos ahora que no mides éxito o fracaso, sino que hay más categorías: el resultado de cada repetición pudo ser de clase 1, de clase 2, de clase 3, ..., de clase $m$ (si $m=2$ estamos en la situación de v.a. binomial).\n",
    "\n",
    "Si $X_i$ es el número de veces que se obtuvo la clase $i$, entonces el *vector* $(X_1,X_2,...,X_m)$ sigue una distribución multinomial.\n",
    "\n",
    "**Ejemplo 10.3**\n",
    "\n",
    "Vas a la tienda a comprar 20 dulces. En la tienda hay chocolates, fresas y vainillas. Por lo tanto hay tres clases. Si $(X_1,X_2,X_3)$ representa la cantidad de chocales, fresas y vainillas que compras (y por lo tanto $X_1+X_2+X_3=20$), puedes preguntarte $P(X_1=2\\mbox{ y }X_2=8\\mbox{ y }X_3=10)$. En este caso estás en una situación multinomial."
   ]
  },
  {
   "cell_type": "markdown",
   "metadata": {},
   "source": [
    "## V.A. binomial negativa\n",
    "\n",
    "Así como en la distribución geométrica te preguntas cuántos fracaso debes tener para llegar al primer éxito, también te puedes preguntar cuántos fracasos debes tener antes de lograr $N$ éxitos (si $N=1$ estás en el caso de la geométrica).\n",
    "\n",
    "De esta manera, el número de fracasos antes de lograr $N$ éxitos es una binomial negativa.\n",
    "\n"
   ]
  }
 ],
 "metadata": {
  "kernelspec": {
   "display_name": "R",
   "language": "R",
   "name": "ir"
  },
  "language_info": {
   "codemirror_mode": "r",
   "file_extension": ".r",
   "mimetype": "text/x-r-source",
   "name": "R",
   "pygments_lexer": "r",
   "version": "3.6.1"
  }
 },
 "nbformat": 4,
 "nbformat_minor": 4
}
