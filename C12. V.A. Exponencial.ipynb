{
 "cells": [
  {
   "cell_type": "markdown",
   "metadata": {},
   "source": [
    "<img src=\"logo.png\">"
   ]
  },
  {
   "cell_type": "markdown",
   "metadata": {},
   "source": [
    "# Variables aleatorias exponenciales\n",
    "\n",
    "Recordemos que la distribución Poisson nos decía cuántos éxitos habían en un periodo de tiempo determinado. \n",
    "\n",
    "Supongamos que tenemos un experimento cuyos resultados cumplen con ser de Poisson. Es decir, podemos saber, mediante una v.a. de Poisson, cuántos eventos exitosos hubo en un determinado tiempo conociendo de antemano el valor promedio de éxitos en un periodo de tiempo fijo (es decir, $\\lambda$). Supongamos que ha ocurrido un éxito; nos podemos plantear cuánto tiempo debe transcurrir para que se produzca el siguiente éxito. \n",
    "\n",
    "Si $X$ es el tiempo que transcurre entre un éxito y otro, se dice que $X$ es una variable aleatoria exponencial con parámetro $\\lambda$ y se denot por \n",
    "\n",
    "$$X\\sim\\mathrm{Exp}(\\lambda)$$\n",
    "\n",
    "De hecho, al revés también funciona: si $X\\sim\\mathrm{Exp}(\\lambda)$ mide el tiempo que hay que esperar para obtener el siguiente éxito, entonces el número de éxitos en un periodo es una poisson.\n",
    "\n"
   ]
  },
  {
   "cell_type": "markdown",
   "metadata": {},
   "source": [
    "## Características\n",
    "\n",
    "Si $X\\sim \\mathrm{Exp}(\\lambda)$ entonces \n",
    "\n",
    "$$f_X(x)=\\lambda e^{-\\lambda x} \\mbox{ para }x\\ge 0$$\n",
    "\n",
    "y \n",
    "\n",
    "$$F_X(x)=\\left\\{\\begin{array}{cc}1-e^{-\\lambda x}&\\mbox{si }x\\ge 0\\\\0&\\mbox{si }x<0\\end{array}\\right.$$\n",
    "\n",
    "Además $E[X]=\\frac{1}{\\lambda}$ y $Var(X)=\\frac{1}{\\lambda^2}$"
   ]
  },
  {
   "cell_type": "markdown",
   "metadata": {},
   "source": [
    "## Observación\n",
    "\n",
    "1. Al igual que la geométrica, la exponencial también tiene pérdida de memoria. Es decir, si $a,b>0$ entonces \n",
    "\n",
    "$$P(X>a+b|X>a)=P(X>b)$$\n",
    "\n",
    "2. Así como la binomial negativa mide cuántos fracasos deben pasar para obtener $n$ éxitos, existe una variable aleatoria que mide, en un fenómeno de tipo Poisson, cuánto tiempo hay que esperar para obtener $n$ éxitos: la distribución gamma."
   ]
  },
  {
   "cell_type": "markdown",
   "metadata": {},
   "source": [
    "## Exponencial en R\n",
    "\n",
    "En **R**, las funciones relacionadas con la distribución exponencial son las siguientes:\n",
    "\n",
    "Función|Descripción|Significado|\n",
    "--|--|--|\n",
    "dexp|$f_X$||\n",
    "pexp|$F_X$|$P(X\\le x)$|\n",
    "qexp|cuantiles||\n",
    "rexp|simulación||\n",
    "\n",
    "De esta manera, se tiene:\n",
    "\n",
    "- $f_X(x)=$`dexp(x,L)`\n",
    "\n",
    "- $F_X(x)=$ ``pexp(x,L)``. \n",
    "\n",
    "- Si debes resolver la ecuación $P(X\\le x)=c$, entonces utilizas ``qexp(c,L)`` \n",
    "\n",
    "- Si vas a realizar $N$ observaciones de una exponencial (es decir, vas a medir $N$ veces cuánto tiempo hay que esperar para el siguiente éxito), utilizas ``rexp(N,L)``"
   ]
  },
  {
   "cell_type": "markdown",
   "metadata": {},
   "source": [
    "**Ejemplo 12.1**\n",
    "\n",
    "El tiempo de reparación de unas máquinas de escribir tiene una distribución aproximadamente exponencial, con media 22 minutos.\n",
    "\n",
    "1. Hallar la probabilidad de que el tiempo de reparación sea menor que diez minutos.\n",
    "2. El costo de reparación es de 200mxn. por cada media hora o fracción. ¿Cuál es la probabilidad de que una reparación cueste 400mxn?\n",
    "3. Para efectuar una programación, ¿cuanto tiempo se debe asignar a cada reparación para que la probabilidad de que cualquier tiempo de reparación mayor que el tiempo asignado sea solo de 0.1? \n"
   ]
  },
  {
   "cell_type": "markdown",
   "metadata": {},
   "source": [
    "**Ejemplo 12.2**\n",
    "\n",
    "El personal de la compañía Onda S.L. usa una Terminal para realizar sus pedidos internacionales. Si el tiempo que cada comercial gasta en una sesión en la Terminal tiene una distribución exponencial con media 36 minutos, encontrar:\n",
    "\n",
    "1. Probabilidad de que un comercial utilice la Terminal 30 minutos o menos.\n",
    "2. Si un comercial ha estado 30 minutos en la Terminal, ¿Cuál es la probabilidad de que pase al menos una hora más en la Terminal?.\n",
    "3. El 90% de las sesiones terminan en menos de c minutos. ¿Cuánto vale c?"
   ]
  },
  {
   "cell_type": "markdown",
   "metadata": {},
   "source": [
    "**Ejemplo 12.3**\n",
    "\n",
    "En una parada de autobuses, se sabe que el autobús de la ruta 8 pasa en promedio 3 veces cada hora. \n",
    "\n",
    "1. ¿Cuál es la probabilidad de que en media hora pasen de 2 a cuatro autobuses?\n",
    "\n",
    "2. Tomarás la ruta 8. Si acabas de llegar a la parada de autobuses y observas que acaba de partir un autobús ruta 8, ¿cuál es la probabilidad de que tengas que esperar al menos 10 minutos para que arribe otro autobús de la ruta 8?\n",
    "\n",
    "3. ¿Cuánto tiempo deberás en promedio debes esperar para que pase el siguiente autobús de ruta 8?"
   ]
  },
  {
   "cell_type": "markdown",
   "metadata": {},
   "source": [
    "**Ejemplo 12.4**\n",
    "\n",
    "En un experimento de laboratorio se utilizan 10 gramos de $^{210}_{84}Po$. Sabiendo que la duración media de un átomo de esta materia es de 140 días y su desintegración sigue una distribución exponencial, ¿cuántos días transcurrirán hasta que haya desaparecido el 90% de este material? "
   ]
  },
  {
   "cell_type": "markdown",
   "metadata": {},
   "source": [
    "**Ejemplo 12.5**\n",
    "\n",
    "Se ha comprobado que el tiempo de vida de cierto tipo de marcapasos sigue una distribución exponencial con media de 16 años. \n",
    "\n",
    "1. ¿Cuál es la probabilidad de que a una persona a la que se le ha implantado este marcapasos se le deba reimplantar otro antes de 20 años? \n",
    "\n",
    "2. Si el marcapasos lleva funcionando correctamente 5 años en un paciente, ¿cuál es la probabilidad de que haya que cambiarlo antes de 25 años? "
   ]
  },
  {
   "cell_type": "markdown",
   "metadata": {},
   "source": [
    "**Ejemplo 12.6**\n",
    "\n",
    "El tiempo durante el cual las baterías para un teléfono celular trabajan en forma efectiva hasta que fallan se distribuye según un modelo exponencial, con un tiempo promedio de falla de 500 horas.\n",
    "\n",
    "1. Calcula la probabilidad de que una batería funcione por mas de 600 horas.\n",
    "2. Si una batería ha funcionado 350 horas, ¿cuál es la probabilidad de que funcione mas de 300 horas adicionales?"
   ]
  },
  {
   "cell_type": "markdown",
   "metadata": {},
   "source": [
    "**Ejemplo 12.7**\n",
    "\n",
    "Una persona llama a un centro de atención a clientes. Se sabe que en promedio debe esperar 2 minutos para ser atendido, y que este tiempo de espera sigue una distribución exponencial. Encuentra la probabilidad de que:\n",
    "\n",
    "1. Tenga que esperar mas de 3 minutos\n",
    "2. Tenga que esperar menos de un minuto\n",
    "3. Tenga que esperar entre uno y tres minutos."
   ]
  }
 ],
 "metadata": {
  "kernelspec": {
   "display_name": "R",
   "language": "R",
   "name": "ir"
  },
  "language_info": {
   "codemirror_mode": "r",
   "file_extension": ".r",
   "mimetype": "text/x-r-source",
   "name": "R",
   "pygments_lexer": "r",
   "version": "3.6.1"
  }
 },
 "nbformat": 4,
 "nbformat_minor": 4
}
