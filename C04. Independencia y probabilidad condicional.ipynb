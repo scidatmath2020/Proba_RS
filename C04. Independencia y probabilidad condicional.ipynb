{
 "cells": [
  {
   "cell_type": "markdown",
   "metadata": {},
   "source": [
    "<img src=\"logo.png\">"
   ]
  },
  {
   "cell_type": "markdown",
   "metadata": {},
   "source": [
    "# Independencia de eventos\n",
    "\n",
    "Hay una regla de la probabilidad que se puede usar para calcular la probabilidad de la intersección de varios eventos, pero esta regla depende del importante concepto estadístico de eventos independientes o dependientes.\n",
    "\n",
    "El concepto de independencia es una forma de incorporar al cálculo de probabilidades la no afectación de la ocurrencia de un evento sobre la probabilidad de otro. \n",
    "\n",
    "Se dice que dos eventos $A$ y $B$ son independientes si $P(A\\cap B)=P(A)P(B)$"
   ]
  },
  {
   "cell_type": "markdown",
   "metadata": {},
   "source": [
    "**Ejemplo 4.1**\n",
    "\n",
    "Suponga que un observador ve el género de una persona y si ésta no distingue los colores rojo y verde. ¿Cambia la probabilidad de que una persona sea daltónica, dependiendo de si es hombre o no? Defina dos eventos:\n",
    "\n",
    "A. La persona es hombre\n",
    "\n",
    "B. La persona es daltónica\n",
    "\n",
    "En este caso, como el daltonismo es una característica relacionada con el sexo masculino,\n",
    "la probabilidad de que un hombre sea daltónico será mayor que la probabilidad\n",
    "de que una persona escogida de la población general sea daltónica. La probabilidad del\n",
    "evento B, que una persona sea daltónica, depende de si ha ocurrido o no ha ocurrido\n",
    "el evento A, que la persona sea hombre. Decimos que A y B son eventos dependientes."
   ]
  },
  {
   "cell_type": "markdown",
   "metadata": {},
   "source": [
    "**Ejemplo 4.2**\n",
    "\n",
    "Considere tirar un solo dado dos veces y defina dos eventos:\n",
    "\n",
    "A: observar un 2 en el primer tiro\n",
    "\n",
    "B: observar un 2 en el segundo tiro\n",
    "\n",
    "Si el dado es imparcial, la probabilidad del evento A es $P(A)=1/6$. \n",
    "\n",
    "Considere la probabilidad del evento B. Ya sea que el evento A haya ocurrido o no haya ocurrido, la probabilidad\n",
    "de observar un 2 en el segundo tiro todavía es 1/6. Por lo tanto $P(A)P(B)=\\frac{1}{6}\\times\\frac{1}{6}=\\frac{1}{36}$\n",
    "\n",
    "Por otra parte, el espacio muestral del experimento tiene $6\\times 6=36$ elementos, y de ellos solo la pareja $(2,2)$ cumple $A\\cap B$. Por lo tanto $P(A\\cap B)=\\frac{1}{36}$.\n",
    "\n",
    "De esta manera, vemos que $P(A\\cap B)=P(A)P(B)$ y concluímos que $A$ y $B$ son eventos independientes."
   ]
  },
  {
   "cell_type": "markdown",
   "metadata": {},
   "source": [
    "# Probabilidad condicional\n",
    "\n",
    "La probabilidad condicional es un concepto elemental pero muy importante que se utiliza con mucha frecuencia en el cálculo de probabilidades. \n",
    "\n",
    "Supongamos dos eventos $A$ y $B$. Uno puede calcular la probabilidad de que suceda el evento $A$ **a sabiendas de que ocurre el evento** $B$. Esto es, si sabes que ocurre el evento $B$, cómo afecta esto a la ocurrencia del evento $A$.\n",
    "\n",
    "Este valor así calculado se conoce como **probabilidad condicional de $A$ dado $B$** y se denota por $P(A|B)$.\n",
    "\n",
    "Se calcula como $$P(A|B)=\\frac{P(A\\cap B)}{P(B)}$$"
   ]
  },
  {
   "cell_type": "markdown",
   "metadata": {},
   "source": [
    "**Ejemplo 4.3**\n",
    "\n",
    "En un experimento de preferencia de color, ocho juguetes se ponen en un recipiente. Los juguetes son idénticos excepto por el color, dos son rojos y seis son verdes. Se pide a un niño que escoja dos juguetes al azar sin reposición. ¿Cuál es la probabilidad de que el niño escoja los dos juguetes rojos?\n",
    "\n",
    "**Solución.**\n",
    "\n",
    "Notemos que una vez que elige un primer juguete, la probabilidad de elegir rojo en el segundo juguete depende del color que eligió primero. De esta manera:\n",
    "\n",
    "$$P(\\mbox{dos rojos})=P(\\mbox{elegir rojo en la segunda}|\\mbox{elegir rojo en la primer})P(\\mbox{elegir rojo en la primera})$$\n",
    "\n",
    "Por lo tanto $P(\\mbox{dos rojos})=\\frac{1}{7}\\times\\frac{2}{8}=\\frac{2}{56}=\\frac{1}{28}$"
   ]
  },
  {
   "cell_type": "markdown",
   "metadata": {},
   "source": [
    "**Ejemplo 4.4**\n",
    "\n",
    "Suponga que en la población general, hay 51\\% de hombres y 49\\% de mujeres, y que las proporciones de hombres y mujeres daltónicos se muestran en la siguiente tabla de probabilidad:\n",
    "\n",
    "Daltonismo|Hombres|Mujeres|Total|\n",
    "--|--|--|--|\n",
    "Sí|0.04|0.002|0.042|\n",
    "No|0.47|0.488|0.958|\n",
    "Total|0.51|0.49|1.00"
   ]
  },
  {
   "cell_type": "markdown",
   "metadata": {},
   "source": [
    "Si una persona se escoge al azar de entre esta población y se encuentra que es hombre, ¿cuál es la probabilidad de que el hombre sea daltónico?. ¿Cuál es la probabilidad de ser daltónico si se sabe que la persona elegida fue mujer?\n",
    "\n",
    "**Solución.**\n",
    "\n",
    "Nos piden $P(\\mbox{daltonismo}|\\mbox{hombre})$ y $P(\\mbox{daltonismo}|\\mbox{mujer})$. Termina."
   ]
  },
  {
   "cell_type": "markdown",
   "metadata": {},
   "source": [
    "Cuando dos eventos $A$ y $B$ son independientes, se tiene $P(A|B)=P(A)$ y $P(B|A)=P(B)$. Es decir, la ocurrencia de $A$ no afecta la ocurrencia de $B$ y viceversa.\n",
    "\n"
   ]
  },
  {
   "cell_type": "markdown",
   "metadata": {},
   "source": [
    "**Ejemplo 4.5**\n",
    "\n",
    "Tire al aire dos monedas y observe el resultado. Defina estos eventos:\n",
    "\n",
    "A: águila en la primera moneda\n",
    "B: sol en la segunda moneda\n",
    "\n",
    "¿Los eventos $A$ y $B$ son independientes?"
   ]
  },
  {
   "cell_type": "markdown",
   "metadata": {},
   "source": [
    "**Ejemplo 4.6**\n",
    "\n",
    "En el Ejemplo 3.5 vimos esta tabla\n",
    "\n",
    "Hijos|Alta|Correcta|Baja\n",
    "--|--|--|--|\n",
    "Hijo en la universidad|0.35|0.08|0.01|\n",
    "Sin hijos en la universidad|0.25|0.20|0.11\n",
    "\n",
    "¿Los eventos \"Tener hijo en la universidad\" y \"Considerar que el apoyo a universitarios es alto\" son independientes?"
   ]
  },
  {
   "cell_type": "markdown",
   "metadata": {},
   "source": [
    "**Reflexión.**\n",
    "\n",
    "El uso de reglas de probabilidad para calcular la probabilidad de un evento requiere alguna experiencia e ingenio. Es necesario expresar el evento de interés como una unión o intersección (o la combinación de ambas) de dos o más eventos cuyas probabilidades son conocidas y se calculan con facilidad. Es frecuente que se pueda hacer esto en diferentes\n",
    "formas; la clave es hallar la combinación correcta."
   ]
  },
  {
   "cell_type": "markdown",
   "metadata": {},
   "source": [
    "**Ejemplo 4.7**\n",
    "\n",
    "Se sacan dos cartas de un mazo de 52. Calcule la probabilidad de que el saque incluya un as y un diez."
   ]
  },
  {
   "cell_type": "markdown",
   "metadata": {},
   "source": [
    "**Ejemplo 4.8**\n",
    "\n",
    "Una estudiante universitaria frecuenta una de las dos cafeterías de su plantel, escogiendo Starbucks 70% de las veces y Peet’s\n",
    "30% del tiempo. En cualquiera de estos lugares, ella compra un café de moka en 60% de sus visitas.\n",
    "\n",
    "a. La siguiente vez que vaya a una cafetería en el plantel, ¿cuál es la probabilidad de que ella vaya a Starbucks y\n",
    "pida un café de moka?\n",
    "\n",
    "b. ¿Los dos eventos del inciso a) son independientes? Explique.\n",
    "\n",
    "c. Si ella entra en una cafetería y pide un café de moka, ¿cuál es la probabilidad de que sea en Peet’s?"
   ]
  },
  {
   "cell_type": "markdown",
   "metadata": {},
   "source": [
    "**Ejemplo 4.9**\n",
    "\n",
    "Es frecuente que hombres y mujeres no estén de acuerdo en qué piensan acerca de seleccionar una pareja. Suponga que una\n",
    "encuesta hecha a 1000 personas de entre 20 y 30 años dio las siguientes respuestas, a la pregunta de si es más importante para su futura pareja ser capaz de comunicar sus sentimientos (F) de lo que es para esa persona vivir bien (G).\n",
    "\n",
    "Sexo|Sentimientos (F)| Vivir Bien (G)|\n",
    "--|--|--|\n",
    "Hombres (H)|0.35|0.20|\n",
    "Mujeres (M)|0.36|0.09\n",
    "\n",
    "Si al azar se selecciona una persona de entre este grupo de 1000, calcule las siguientes probabilidades:\n",
    "\n",
    "a. $P(F)$ \n",
    "\n",
    "b. $P(G)$\n",
    "\n",
    "c. $P(F|H)$\n",
    "\n",
    "d. $P(F|M)$ \n",
    "\n",
    "e. $P(H|F)$ \n",
    "\n",
    "f. $P(M|G)$"
   ]
  },
  {
   "cell_type": "markdown",
   "metadata": {},
   "source": [
    "**Ejemplo 4.10**\n",
    "\n",
    "El jugador A ha entrado a un torneo de golf pero no está seguro si el jugador B entrará. El jugador A tiene una probabilidad de 1/6 de ganar el torneo si el jugador B entra y una probabilidad de 3/4 de ganar si el jugador B no entra al torneo. Si la probabilidad de que el jugador B entre al torneo es 1/3, encuentre la probabilidad de que el jugador A gane el torneo."
   ]
  },
  {
   "cell_type": "markdown",
   "metadata": {},
   "source": [
    "**Ejemplo 4.11**\n",
    "\n",
    "Al 25% de tus amigos le gusta la fresa y el chocolate, mientras que al 60% le gusta el chocolate. ¿Cuál es la probabilidad de que a un amigo que le gusta el chocolate, le guste la fresa?"
   ]
  },
  {
   "cell_type": "markdown",
   "metadata": {},
   "source": [
    "**Ejemplo 4.12**\n",
    "\n",
    "El 76% de los estudiantes de Ingeniería Civil han aprobado resistencia de materiales y el 45% aprobaron estática. Además, el 30% aprobaron resistencia de materiales y estática. Si Camilo aprobó resistencia de materiales, ¿qué probabilidad tiene de haber aprobado también estática?"
   ]
  },
  {
   "cell_type": "markdown",
   "metadata": {},
   "source": [
    "**Ejemplo 4.13**\n",
    "\n",
    "Un inspector de calidad asegura que en un lote de 1000 playeras del Manchester y la Juve se obtiene la siguiente información:\n",
    "\n",
    "Camisetas|Correcta|Defectuosa|\n",
    "--|--|--|\n",
    "Juventus|508|92|\n",
    "Manchester|315|85\n",
    "\n",
    "Si compras una de esas 1000 camisetas y resulta defectuosa, ¿Cuál es la probabilidad de que sea del Manchester?"
   ]
  }
 ],
 "metadata": {
  "kernelspec": {
   "display_name": "R",
   "language": "R",
   "name": "ir"
  },
  "language_info": {
   "codemirror_mode": "r",
   "file_extension": ".r",
   "mimetype": "text/x-r-source",
   "name": "R",
   "pygments_lexer": "r",
   "version": "3.6.1"
  }
 },
 "nbformat": 4,
 "nbformat_minor": 4
}
