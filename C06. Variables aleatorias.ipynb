{
 "cells": [
  {
   "cell_type": "markdown",
   "metadata": {},
   "source": [
    "<img src=\"logo.png\">"
   ]
  },
  {
   "cell_type": "markdown",
   "metadata": {},
   "source": [
    "# Variables aleatorias\n",
    "\n",
    "Una variable aleatoria $X$ es una función que a cada elemento de un espacio muestral le asocia un número.\n",
    "\n",
    "Por ejemplo:\n",
    "\n",
    "- X: número de defectos en un objeto que se selecciona al azar.\n",
    "- Y: calificación del examen de un solicitante elegido al azar.\n",
    "- Z: número de cara de un dado que se obtiene al lanzarlo.\n",
    "- T: Número de llamadas telefónicas recibidas por una línea directa de intervención en crisis durante un periodo seleccionado al azar.\n",
    "- W: tiempo que tardas en esperar tu bus desde que llegas a la parada.\n",
    "\n",
    "Las variables aleatorias se clasifican como **discretas** y **continuas**, de acuerdo a los valores que puedan tomar.\n",
    "\n",
    "Es importante saber distinguirlas, ya que las técnicas que se emplean para trabajar con ellas son diferentes. "
   ]
  },
  {
   "cell_type": "markdown",
   "metadata": {},
   "source": [
    "**Ejemplo 6.1**\n",
    "\n",
    "Considera el experimento de lanzar una moneda al aire. Puedes definir $X$ como 0 si cae águila y 1 si cae sol."
   ]
  },
  {
   "cell_type": "markdown",
   "metadata": {},
   "source": [
    "## Función de distribución acumulativa\n",
    "\n",
    "Si $X$ es una variable aleatoria, se puede asociar una función especial a esta variable aleatoria: la **función de distribución acumulativa**. Esta se denota por $F_X$ y se define como $F_X(x)=P(X\\le x)$. Notemos que $0\\le F_X(x)\\le 1$ sin importar quién es $x$ (pues se trata de una probabilidad)."
   ]
  },
  {
   "cell_type": "markdown",
   "metadata": {},
   "source": [
    "**Ejemplo 6.2**\n",
    "\n",
    "Consideremos la variable aleatoria del Ejemplo 6.1. Entonces \n",
    "    $$F_X(x)=\\left\\{\\begin{array}{cc}0&\\mbox{si }x<0\\\\0.5&\\mbox{si }0\\le x<1\\\\1&\\mbox{si }x\\ge 1\\end{array}\\right.$$"
   ]
  },
  {
   "cell_type": "markdown",
   "metadata": {},
   "source": [
    "Las funciones de distribución acumulativas cumplen las siguientes propiedades:\n",
    "\n",
    "- $\\lim_{x\\to-\\infty}F_X(x)=0$ y $\\lim_{x\\to\\infty}F_X(x)=1$.\n",
    "- $F_X$ es no decreciente: si $a<b$ entonces $F_X(a)\\le F_X(b)$.\n",
    "- $F_X$ siempre es continua por la derecha."
   ]
  },
  {
   "cell_type": "markdown",
   "metadata": {},
   "source": [
    "## Funciones de densidad\n",
    "\n",
    "Como hemos dicho, existen dos tipos principales de variables aleatorias: discretas y continuas.\n",
    "\n",
    "### Variables aleatorias discretas\n",
    "\n",
    "Una variable aleatoria $X$ se dice discreta si el conjunto de valores que puede tomar es un conjunto discreto (finito o no). \n",
    "\n",
    "**Función de densidad de una variable aleatoria discreta**\n",
    "\n",
    "Si $X$ es una v.a. discreta, se define su función de densidad como $$f_X(x)=P(X=x).$$"
   ]
  },
  {
   "cell_type": "markdown",
   "metadata": {},
   "source": [
    "**Ejemplo 6.3**\n",
    "\n",
    "Considera el lanzamiento de un dado justo. Sea $X$ la cara que se obiene. Entonces $P(X=x)=\\frac{1}{6}$ para $x=1,2,3,4,5,6$. Por lo tanto $f_X(x)=\\frac{1}{6}$ para $x=1,2,3,4,5,6$ y $f_X(x)=0$ en cualquier otro caso.\n",
    "\n",
    "Además, si $x=1,2,3,4,5,6$, entonces $$F_X(x)=P(X\\le x)=P(X=1)+P(X=2)+...+P(X=x)=\\frac{x}{6}$$"
   ]
  },
  {
   "cell_type": "markdown",
   "metadata": {},
   "source": [
    "Las funciones de densidad de v.a. discretas cumplen:\n",
    "\n",
    "1. $f_X(x)\\ge 0$ sin importar quién es $x$.\n",
    "2. Si $X$ puede tomar los valores $x_1$, $x_2$, $x_3$,... entonces $$f_X(x_1)+f_X(x_2)+f_X(x_3)+...=1$$"
   ]
  },
  {
   "cell_type": "markdown",
   "metadata": {},
   "source": [
    "### Variables aleatorias continuas\n",
    "\n",
    "Una variable aleatoria $X$ se dice continua si el conjunto de valores que puede tomar es un conjunto no numerable. \n",
    "\n",
    "El tratamiento teorico de este tipo de variables es mas complicado que el de las discretas, aunque en la práctica suelen ser mas sencillas.\n",
    "\n",
    "La función de distribución de una variable aleatoria $X$ es, como ya dijimos, $F_X(x)=P(X\\le x)$. Pero para las continuas se puede decir mas: **existe una función $f_X$ tal que** \n",
    "\n",
    "$$F_X(x)=\\int_{-\\infty}^x f_X(t)\\,\\mathrm{d}t$$\n",
    "\n",
    "A la función $f_X$ se le llama **función de densidad**"
   ]
  },
  {
   "cell_type": "markdown",
   "metadata": {},
   "source": [
    "**Ejemplo 6.4**\n",
    "\n",
    "Sea $X$ la variable aleatoria que mide la duración de una llamada telefónica. Supongamos que su distribución viene dada por \n",
    "\n",
    "$$F_X(x)=\\left\\{\\begin{array}{cc}1-e^{-x}&\\mbox{si }x\\ge0\\\\0&\\mbox{si }x<0\\end{array}\\right.$$\n",
    "\n",
    "Entonces la densidad es $$f_X(x)=\\left\\{\\begin{array}{cc}e^{-x}&\\mbox{si }x\\ge0\\\\0&\\mbox{si }x<0\\end{array}\\right.$$"
   ]
  },
  {
   "cell_type": "markdown",
   "metadata": {},
   "source": [
    "Las funciones de densidad de una variable aleatoria continua cumplen:\n",
    "\n",
    "1. $f_X(x)\\ge 0$ y \n",
    "2. $$\\int_{-\\infty}^\\infty f_X(x)\\,\\mathrm{d}x=1$$"
   ]
  }
 ],
 "metadata": {
  "kernelspec": {
   "display_name": "R",
   "language": "R",
   "name": "ir"
  },
  "language_info": {
   "codemirror_mode": "r",
   "file_extension": ".r",
   "mimetype": "text/x-r-source",
   "name": "R",
   "pygments_lexer": "r",
   "version": "3.6.1"
  }
 },
 "nbformat": 4,
 "nbformat_minor": 4
}
