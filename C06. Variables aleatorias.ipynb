{
 "cells": [
  {
   "cell_type": "markdown",
   "metadata": {},
   "source": [
    "<img src=\"logo.png\">"
   ]
  },
  {
   "cell_type": "markdown",
   "metadata": {},
   "source": [
    "# Variables aleatorias\n",
    "\n",
    "Una variable aleatoria $X$ es una función que a cada elemento de un espacio muestral le asocia un número.\n",
    "\n",
    "Por ejemplo:\n",
    "\n",
    "- X: número de defectos en un objeto que se selecciona al azar.\n",
    "- Y: calificación del examen de un solicitante elegido al azar.\n",
    "- Z: número de cara de un dado que se obtiene al lanzarlo.\n",
    "- T: Número de llamadas telefónicas recibidas por una línea directa de intervención en crisis durante un periodo seleccionado al azar.\n",
    "- W: tiempo que tardas en esperar tu bus desde que llegas a la parada.\n",
    "\n",
    "Las variables aleatorias se clasifican como **discretas** y **continuas**, de acuerdo a los valores que puedan tomar.\n",
    "\n",
    "Es importante saber distinguirlas, ya que las técnicas que se emplean para trabajar con ellas son diferentes. "
   ]
  },
  {
   "cell_type": "markdown",
   "metadata": {},
   "source": [
    "**Ejemplo 6.1**\n",
    "\n",
    "Considera el experimento de lanzar una moneda al aire. Puedes definir $X$ como 0 si cae águila y 1 si cae sol."
   ]
  },
  {
   "cell_type": "markdown",
   "metadata": {},
   "source": [
    "## Función de distribución acumulativa\n",
    "\n",
    "Si $X$ es una variable aleatoria, se puede asociar una función especial a esta variable aleatoria: la **función de distribución acumulativa**. Esta se denota por $F_X$ y se define como $F_X(x)=P(X\\le x)$. Notemos que $0\\le F_X(x)\\le 1$ sin importar quién es $x$ (pues se trata de una probabilidad)."
   ]
  },
  {
   "cell_type": "markdown",
   "metadata": {},
   "source": [
    "**Ejemplo 6.2**\n",
    "\n",
    "Consideremos la variable aleatoria del Ejemplo 6.1. Entonces \n",
    "    $$F_X(x)=\\left\\{\\begin{array}{cc}0&\\mbox{si }x<0\\\\0.5&\\mbox{si }0\\le x<1\\\\1&\\mbox{si }x\\ge 1\\end{array}\\right.$$"
   ]
  },
  {
   "cell_type": "markdown",
   "metadata": {},
   "source": [
    "Las funciones de distribución acumulativas cumplen las siguientes propiedades:\n",
    "\n",
    "- $\\lim_{x\\to-\\infty}F_X(x)=0$ y $\\lim_{x\\to\\infty}F_X(x)=1$.\n",
    "- $F_X$ es no decreciente: si $a<b$ entonces $F_X(a)\\le F_X(b)$.\n",
    "- $F_X$ siempre es continua por la derecha."
   ]
  },
  {
   "cell_type": "markdown",
   "metadata": {},
   "source": [
    "## Funciones de densidad\n",
    "\n",
    "Como hemos dicho, existen dos tipos principales de variables aleatorias: discretas y continuas.\n",
    "\n",
    "### Variables aleatorias discretas\n",
    "\n",
    "Una variable aleatoria $X$ se dice discreta si el conjunto de valores que puede tomar es un conjunto discreto (finito o no). \n",
    "\n",
    "**Función de densidad de una variable aleatoria discreta**\n",
    "\n",
    "Si $X$ es una v.a. discreta, se define su función de densidad como $$f_X(x)=P(X=x).$$"
   ]
  },
  {
   "cell_type": "markdown",
   "metadata": {},
   "source": [
    "**Ejemplo 6.3**\n",
    "\n",
    "Considera el lanzamiento de un dado justo. Sea $X$ la cara que se obiene. Entonces $P(X=x)=\\frac{1}{6}$ para $x=1,2,3,4,5,6$. Por lo tanto $f_X(x)=\\frac{1}{6}$ para $x=1,2,3,4,5,6$ y $f_X(x)=0$ en cualquier otro caso.\n",
    "\n",
    "Además, si $x=1,2,3,4,5,6$, entonces $$F_X(x)=P(X\\le x)=P(X=1)+P(X=2)+...+P(X=x)=\\frac{x}{6}$$"
   ]
  },
  {
   "cell_type": "markdown",
   "metadata": {},
   "source": [
    "Las funciones de densidad de v.a. discretas cumplen:\n",
    "\n",
    "1. $f_X(x)\\ge 0$ sin importar quién es $x$.\n",
    "2. Si $X$ puede tomar los valores $x_1$, $x_2$, $x_3$,... entonces $$f_X(x_1)+f_X(x_2)+f_X(x_3)+...=1$$"
   ]
  },
  {
   "cell_type": "markdown",
   "metadata": {},
   "source": [
    "### Variables aleatorias continuas\n",
    "\n",
    "Una variable aleatoria $X$ se dice continua si el conjunto de valores que puede tomar es un conjunto no numerable. \n",
    "\n",
    "El tratamiento teorico de este tipo de variables es mas complicado que el de las discretas, aunque en la práctica suelen ser mas sencillas.\n",
    "\n",
    "La función de distribución de una variable aleatoria $X$ es, como ya dijimos, $F_X(x)=P(X\\le x)$. Pero para las continuas se puede decir mas: **existe una función $f_X$ tal que** \n",
    "\n",
    "$$F_X(x)=\\int_{-\\infty}^x f_X(t)\\,\\mathrm{d}t$$\n",
    "\n",
    "A la función $f_X$ se le llama **función de densidad**"
   ]
  },
  {
   "cell_type": "markdown",
   "metadata": {},
   "source": [
    "**Ejemplo 6.4**\n",
    "\n",
    "Sea $X$ la variable aleatoria que mide la duración de una llamada telefónica. Supongamos que su distribución viene dada por \n",
    "\n",
    "$$F_X(x)=\\left\\{\\begin{array}{cc}1-e^{-x}&\\mbox{si }x\\ge0\\\\0&\\mbox{si }x<0\\end{array}\\right.$$\n",
    "\n",
    "Entonces la densidad es $$f_X(x)=\\left\\{\\begin{array}{cc}e^{-x}&\\mbox{si }x\\ge0\\\\0&\\mbox{si }x<0\\end{array}\\right.$$"
   ]
  },
  {
   "cell_type": "markdown",
   "metadata": {},
   "source": [
    "Las funciones de densidad de una variable aleatoria continua cumplen:\n",
    "\n",
    "1. $f_X(x)\\ge 0$ y \n",
    "2. $$\\int_{-\\infty}^\\infty f_X(x)\\,\\mathrm{d}x=1$$"
   ]
  },
  {
   "cell_type": "markdown",
   "metadata": {},
   "source": [
    "## Esperanza de una variable aleatoria\n",
    "\n",
    "Sea $X$ una variable aleatoria cualquiera. Se define su esperanza o media, denotada por $E[X]$, como \n",
    "\n",
    "$$E[X]=x_1\\cdot P(X=x_1)+x_2\\cdot P(X=x_2)+x_3\\cdot P(X=x_3)+...$$ \n",
    "\n",
    "si $X$ es discreta y puede tomar los valores $x_1$, $x_2$, $x_3$,... y \n",
    "\n",
    "$$E[X]=\\int_{-\\infty}^\\infty xf_X(x)\\,\\mathrm{d}x$$ \n",
    "\n",
    "si $X$ es continua."
   ]
  },
  {
   "cell_type": "markdown",
   "metadata": {},
   "source": [
    "**Ejemplo 6.5**\n",
    "\n",
    "Considera el experimento de lanzar un dado. Sea $X$ el número de cara que se obtiene. Entonces\n",
    "\n",
    "$$E[X]=1\\cdot\\frac{1}{6}+2\\cdot\\frac{1}{6}+3\\cdot\\frac{1}{6}+4\\cdot\\frac{1}{6}+5\\cdot\\frac{1}{6}+6\\cdot\\frac{1}{6}=\\frac{7}{2}=3.5$$"
   ]
  },
  {
   "cell_type": "markdown",
   "metadata": {},
   "source": [
    "**Ejemplo 6.6**\n",
    "\n",
    "Supongamos $X$ tiene densidad $$f_X(x)=\\left\\{\\begin{array}{cc}e^{-x}&\\mbox{si }x\\ge0\\\\0&\\mbox{si }x<0\\end{array}\\right.$$\n",
    "\n",
    "Entonces\n",
    "\n",
    "$$E[X]=\\int_{-\\infty}^\\infty xf_X(x)\\,\\mathrm{d}x=\\int_0^\\infty x e^{-x}\\,\\mathrm{d}x=1$$"
   ]
  },
  {
   "cell_type": "markdown",
   "metadata": {},
   "source": [
    "**Ejemplo 6.7**\n",
    "\n",
    "Si $X$ tiene densidad $$f_X(x)=\\left\\{\\begin{array}{cc}\\frac{1}{x^2}&\\mbox{si }x\\ge1\\\\0&\\mbox{si }x<1\\end{array}\\right.$$ entonces $E[X]$ no existe."
   ]
  },
  {
   "cell_type": "markdown",
   "metadata": {},
   "source": [
    "## Varianza\n",
    "\n",
    "La media de una variable aleatoria representa una medida de dónde se están concentrando sus valores. La **varianza** es una medida de qué tanto se alejan los valores, en promedio, de la media.\n",
    "\n",
    "La varianza se define como $$Var(X)=E[(X-E[X])^2]$$\n",
    "\n",
    "Una medida muy relacionada con la varianza es la **desviación estándar**. Esta se define como $SD(X)=\\sqrt{Var(X)}$ y también es una medida de qué tanto se alejan, en promedio, los valores de la variable respecto de su media."
   ]
  },
  {
   "cell_type": "markdown",
   "metadata": {},
   "source": [
    "**Ejemplo 6.8**\n",
    "\n",
    "Considera el experimento de lanzar un dado. Sea $X$ el número de cara que se obtiene. Entonces, como $E[X]=3.5$ se tiene\n",
    "\n",
    "$$Var(X)=(1-3.5)^2\\cdot\\frac{1}{6}+(2-3.5)^2\\cdot\\frac{1}{6}+(3-3.5)^2\\cdot\\frac{1}{6}+(4-3.5)^2\\cdot\\frac{1}{6}+(5-3.5)^2\\cdot\\frac{1}{6}+(6-3.5)^2\\cdot\\frac{1}{6}=\\frac{35}{12}=2.917$$"
   ]
  },
  {
   "cell_type": "markdown",
   "metadata": {},
   "source": [
    "**Ejemplo 6.9**\n",
    "\n",
    "Supongamos $X$ tiene densidad $$f_X(x)=\\left\\{\\begin{array}{cc}e^{-x}&\\mbox{si }x\\ge0\\\\0&\\mbox{si }x<0\\end{array}\\right.$$\n",
    "\n",
    "Entonces $E[X]=1$ y \n",
    "\n",
    "$$Var(X)=\\int_{-\\infty}^\\infty (x-1)^2f_X(x)\\,\\mathrm{d}x=\\int_0^\\infty(x-1)^2e^{-x}\\,\\mathrm{d}x=1$$"
   ]
  },
  {
   "cell_type": "markdown",
   "metadata": {},
   "source": [
    "### Propiedades de la esperanza\n",
    "\n",
    "Si $X$ y $Y$ son variables aleatorias, entonces $X\\pm Y$ es de nuevo una variable aleatoria; $cX$ es de nuevo una variable aleatoria cuando $c$ es cualquier número; y si $g$ es una función, entonces $g(X)$ es de nuevo una variable aleatoria.\n",
    "\n",
    "Con esto en mente:\n",
    "\n",
    "- $E[g(X)]=g(x_1)P(X=x_1)+g(x_2)P(X=x_2)+g(x_3)P(X=x_3)+...$ si $X$ es discreta y toma valores $x_1,x_2,...$\n",
    "\n",
    "- $E[g(X)]=\\int_{\\infty}^\\infty g(x)f_X(x)\\mathrm{d}x$ si $X$ es continua.\n",
    "\n",
    "- $E[c]=c$ para todo número $c$.\n",
    "\n",
    "- $E[cX]=cE[X]$ para todo número $c$\n",
    "\n",
    "- $E[X+Y]=E[X]+E[Y]$\n",
    "\n",
    "- $Var(X)=E[X^2]-E[X]^2$\n",
    "\n",
    "- $Var(cX)=c^2Var(X)$ para todo número $c$\n",
    "\n",
    "- $Var(X+c)=Var(X)$ para todo número $c$\n",
    "\n",
    "- En general, $Var(X+Y)\\neq Var(X)+Var(Y)$"
   ]
  }
 ],
 "metadata": {
  "kernelspec": {
   "display_name": "R",
   "language": "R",
   "name": "ir"
  },
  "language_info": {
   "codemirror_mode": "r",
   "file_extension": ".r",
   "mimetype": "text/x-r-source",
   "name": "R",
   "pygments_lexer": "r",
   "version": "3.6.1"
  }
 },
 "nbformat": 4,
 "nbformat_minor": 4
}
