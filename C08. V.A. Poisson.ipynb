{
 "cells": [
  {
   "cell_type": "markdown",
   "metadata": {},
   "source": [
    "<img src=\"logo.png\">"
   ]
  },
  {
   "cell_type": "markdown",
   "metadata": {},
   "source": [
    "# Variables aleatorias de tipo Poisson\n",
    "\n",
    "\n",
    "Imagina que vas a observar cuántas veces ocurre un fenómeno durante un tiempo o dentro de una región. Una ocurrencia puede ser un accidente de tránsito, la emisión de una partícula, la recepción de una llamada telefónica, la caída de un meteorito, un defecto en una zona de un producto, etcétera.\n",
    "\n",
    "Supongamos que existe un número $v$ tal que:\n",
    "- La probabilidad de que ocurra un acontecimiento en una unidad de tiempo o espacio pequeña de tamaño $h$ es igual a $vh$.\n",
    "- La probabilidad de que ocurran dos acontecimientos en una unidad de tiempo o espacio pequeña de tamaño $h$ es pequeña comparada con la probabilidad de que ocurra un solo acontecimiento en la misma unidad de tiempo o espacio.\n",
    "- El número de ocurrencias de los acontecimientos es independiente en intervalos de tiempo  o espacio que no se traslapan\n",
    "\n",
    "Bajo las condiciones anteriores, si $X$ es el número de ocurrencias en un intervalo de tiempo o un espacio de tamaño $t$, entonces se dice que $X$ es una variable aleatoria de Poisson con parámetro $\\lambda = vt$ y se denota por \n",
    "\n",
    "$$X\\sim\\mathrm{Poiss}(\\lambda=vt)$$\n",
    "\n",
    "El número $v$ se interpreta como el promedio del número de ocurrencias que se registran por unidad de tiempo."
   ]
  },
  {
   "cell_type": "markdown",
   "metadata": {},
   "source": [
    "## Características\n",
    "\n",
    "Si $X\\sim\\mathrm{Poiss}(\\lambda)$ entonces \n",
    "\n",
    "$$f_X(x)=P(X=x)=\\frac{e^{-\\lambda}\\lambda^x}{x!}$$\n",
    "\n",
    "Además $E[X]=\\lambda$ y $Var(X)=\\lambda$"
   ]
  },
  {
   "cell_type": "markdown",
   "metadata": {},
   "source": [
    "## Poisson en R\n",
    "\n",
    "En **R**, las funciones relacionadas con la distribución binomial son las siguientes:\n",
    "\n",
    "Función|Descripción|\n",
    "--|--|\n",
    "dpois|$f_X$|\n",
    "ppois|$F_X$|\n",
    "qpois|cuantiles|\n",
    "rpois|simulación\n",
    "\n",
    "De esta manera, se tiene:\n",
    "\n",
    "- $f_X(x)=$`dpois(x,lambda)`\n",
    "\n",
    "- $F_X(x)=$ ``ppois(x,lambda)``. \n",
    "\n",
    "- Si debes resolver la ecuación $P(X\\le x)=c$, entonces utilizas ``qpois(c,lambda)`` \n",
    "\n",
    "- Si vas a realizar $N$ observaciones de una poisson (es decir, vas a medir $N$ veces cuántos ocurrencias hay en un intervalo de tiempo o una zona de tamaño $\\lambda$), utilizas ``rpois(N,lambda)``"
   ]
  },
  {
   "cell_type": "markdown",
   "metadata": {},
   "source": [
    "**Ejemplo 8.1**\n",
    "\n",
    "Una empresa electrónica observa que el número de componentes que fallan antes de cumplir 100 horas de funcionamiento es una variable aleatoria de Poisson. Si el número promedio de estos fallos es ocho,\n",
    "\n",
    "1. ¿cuál es la probabilidad de que falle un componente en 25 horas?\n",
    "2. ¿y de que fallen no más de dos componentes en 50 horas?\n",
    "3. ¿cuál es la probabilidad de que fallen por lo menos diez en 125 horas? \n"
   ]
  },
  {
   "cell_type": "markdown",
   "metadata": {},
   "source": [
    "**Ejemplo 8.2**\n",
    "\n",
    "Supongamos que el número de imperfecciones en un alambre delgado de cobre sigue una distribución Poisson con una media de 2.3 imperfecciones por milímetro.\n",
    "\n",
    "1. Determine la probabilidad de 2 imperfecciones en un milímetro de alambre.\n",
    "2. Determine la probabilidad de 10 imperfecciones en 5 milímetros de alambre.\n",
    "3. Determine la probabilidad de al menos una imperfección en 2mm de alambre \n"
   ]
  },
  {
   "cell_type": "markdown",
   "metadata": {},
   "source": [
    "**Ejemplo 8.3**\n",
    "\n",
    "La contaminación constituye un problema en la fabricación de discos de almacenamiento óptico. El número de partículas de contaminación que ocurre en un disco óptico tiene una distribución de Poisson y el número promedio de partículas por\n",
    "centímetro cuadrado de superficie del disco es 0.1. El área de un disco bajo estudio es 100 centímetros cuadrados.\n",
    "\n",
    "1. Encuentre la probabilidad de que ocurran 12 partículas en el área del disco bajo estudio.\n",
    "2. La probabilidad de que ocurran cero partículas en el área del disco bajo estudio\n",
    "3. Determine la probabilidad de que 12 o menos partículas ocurran en el área del disco bajo estudio"
   ]
  },
  {
   "cell_type": "markdown",
   "metadata": {},
   "source": [
    "**Ejemplo 8.4**\n",
    "\n",
    "La veterinaria de Jorge recibe un promedio de 4 pacientes por día. Sabiendo que el número de pacientes que llegan en un día sigue una distribución de Poisson, calcular:\n",
    "\n",
    "1. La probabilidad de que lleguen 3 pacientes en un día.\n",
    "2. La probabilidad de que lleguen al menos 5 pacientes en un día."
   ]
  },
  {
   "cell_type": "markdown",
   "metadata": {},
   "source": [
    "**Ejemplo 8.5**\n",
    "\n",
    "A una central telefónica ingresan llamadas a un ritmo de 6 por minuto. Calcular la probabilidad de que, en un intervalo de 30 segundos, se reciba al menos 1 llamada."
   ]
  },
  {
   "cell_type": "markdown",
   "metadata": {},
   "source": [
    "**Ejemplo 8.6**\n",
    "\n",
    "El número de solicitudes de ayuda recibidas por un servicio de grúas sigue una distribución de Poisson. Además, se reciben 4 llamadas por hora.\n",
    "\n",
    "1. Calcule la probabilidad de que exactamente 10 solicitudes sean recibidas durante un período particular de 2 horas.\n",
    "2. Si los operadores de servicio de grúas hacen una pausa de 30 minutos para la cena, ¿cuál es la probabilidad de que dejen de atender las llamadas de auxilio?"
   ]
  },
  {
   "cell_type": "markdown",
   "metadata": {},
   "source": [
    "**Ejemplo 8.7**\n",
    "\n",
    "El número medio de accidentes ocurridos en un planta petrolera es de 2 accidentes en 2 meses.\n",
    "\n",
    "1. Probabilidad de que haya más de 2 accidentes en 2 meses.\n",
    "2. Probabilidad de que haya entre 2 y 8 inclusive, en 2 meses.\n",
    "3. Probabilidad de que haya más de 2 accidentes en 1 mes"
   ]
  },
  {
   "cell_type": "markdown",
   "metadata": {},
   "source": [
    "**Ejemplo 8.8**\n",
    "\n",
    "El número medio de robos con violencia que se registra en una barrio es de 4 al mes.\n",
    "\n",
    "1. Probabilidad de que en un mes determinado no haya ningún robo de este tipo.\n",
    "2. Probabilidad de que haya al menos uno en un mes dado.\n",
    "3. Probabilidad de que haya entre 2 y 6, inclusive en un mes dado.\n",
    "4. Probabilidad de que haya más de dos en 15 días."
   ]
  },
  {
   "cell_type": "markdown",
   "metadata": {},
   "source": [
    "**Ejemplo 8.9**\n",
    "\n",
    "Suponiendo que las denuncias que realizan los trabajadores de cierta empresa a la Inspección de Trabajo siguen un modelo Poisson de media 1.5 al año, obtenga las siguientes probabilidades\n",
    "1. Probabilidad de que en un año determinado la empresa no sea denunciada.\n",
    "2. Probabilidad de que en un año dado se produzcan más de 4 denuncias\n",
    "3. Probabilidad de que en el primer cuatrimestre del año se produzcan dos o más denuncias.\n"
   ]
  }
 ],
 "metadata": {
  "kernelspec": {
   "display_name": "R",
   "language": "R",
   "name": "ir"
  },
  "language_info": {
   "codemirror_mode": "r",
   "file_extension": ".r",
   "mimetype": "text/x-r-source",
   "name": "R",
   "pygments_lexer": "r",
   "version": "3.6.1"
  }
 },
 "nbformat": 4,
 "nbformat_minor": 4
}
