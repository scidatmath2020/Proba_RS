{
 "cells": [
  {
   "cell_type": "markdown",
   "metadata": {},
   "source": [
    "<img src=\"logo.png\">"
   ]
  },
  {
   "cell_type": "markdown",
   "metadata": {},
   "source": [
    "# Terminología\n",
    "\n",
    "Cualquier actividad cuyo resultado no es conocido con certidumbre puede considerarse un **experimento**. Los experimentos pueden ser tan simples como seleccionar una carta dentro de una baraja y adivinar qué carta se obtiene o puede ser ejecutar un programa en tu computadora y calcular el tiempo que tomará en ejecutarse.\n",
    "\n",
    "El conjunto de todos los posibles resultados de un experimento se conoce como **espacio muestral**. Usualmente se denota por $S$. \n",
    "\n",
    "Un **evento**, por lo general denotado por una letra mayúscula diferente de $S$, es un subconjunto del espacio muestral. Todo subconjunto del espacio muestral es un evento, así que técnicamente el espacio muestral es por su propio derecho un evento. Al evento $S$ (recuerda quién es $S$) se le llama *evento seguro*.\n",
    "\n",
    "Como el conjunto vacío es un subconjunto del espacio muestral, entonces también es un evento. Este es conocido como *evento imposible*.\n",
    "\n",
    "Los eventos de la forma $\\{x\\}$ (es decir, conjuntos de un solo elemento) se llaman *singuletes* o *eventos primarios*. Por lo tanto, todo evento es simplemente una unión de singuletes."
   ]
  },
  {
   "cell_type": "markdown",
   "metadata": {},
   "source": [
    "**Ejemplo 1.1**\n",
    "\n",
    "Cuando lanzas una moneda, no sabes si caerá cara o cruz. Por lo tanto:\n",
    "* *Experimento:* lanzar una moneda.\n",
    "* *Espacio muestral:* $S=\\{cara,cruz\\}$\n",
    "* *Evento:* los eventos son $\\emptyset,\\,\\{cara\\},\\,\\{cruz\\},\\,S=\\{cara,cruz\\}$"
   ]
  },
  {
   "cell_type": "markdown",
   "metadata": {},
   "source": [
    "**Ejemplo 1.2**\n",
    "\n",
    "Cuando lanzas dos monedas, no sabes qué resultado tendrás. Por lo tanto:\n",
    "* *Experimento:* lanzar dos monedas.\n",
    "* *Espacio muestral:* $S=\\{(ca,ca),(ca,cz),(cz,ca),(cz,cz)\\}$\n",
    "* *Evento:* A veces cuando listamos todos los eventos conviene hacerlo listando por número de elementos del evento (recuerda que los eventos son conjuntos especiales):\n",
    "    * Evento sin elementos: $\\emptyset$.\n",
    "    * Eventos con un solo elemento (en este caso, elemento es igual a pareja): $\\{(ca,ca)\\}$, $\\{(ca,cz)\\}$, $\\{(cz,ca)\\}$, $\\{(cz,cz)\\}$.\n",
    "    * Eventos con dos elementos (es decir, conjuntos formados por dos parejas): $\\{(ca,ca),(ca,cz)\\}$, $\\{(ca,ca),(cz,ca)\\}$, $\\{(ca,ca),(cz,cz)\\}$, $\\{(ca,cz),(cz,ca)\\}$, $\\{(ca,cz),(cz,cz)\\}$, $\\{(cz,ca),(cz,cz)\\}$\n",
    "    * Eventos con tres elementos (es decir, conjuntos formados por tres parejas): $\\{(ca,ca),(ca,cz),(cz,ca)\\}$, $\\{(ca,ca),(ca,cz),(cz,cz)\\}$, $\\{(ca,ca),(cz,ca),(cz,cz)\\}$,  $\\{(ca,cz),(cz,ca),(cz,cz)\\}$\n",
    "    * Evento con cuatro elementos: $S$"
   ]
  },
  {
   "cell_type": "markdown",
   "metadata": {},
   "source": [
    "Es importante notar en el Ejemplo 1.2 que: hay 1 evento *de tamaño 0* ; hay 4 eventos de *tamaño 1*; hay 6 eventos de *tamaño 2*; hay 4 eventos de *tamaño 3* y hay un solo evento de *tamaño 4*, así que en total hay 1+4+6+4+1=16 eventos."
   ]
  },
  {
   "cell_type": "markdown",
   "metadata": {},
   "source": [
    "**Ejemplo 1.3**\n",
    "\n",
    "Te llega una tabla formada por dos columnas: nombre y estatura.\n",
    "* *Experimento:* Buscar en la tabla si está Juan de 1.70m de estatura.\n",
    "* *Espacio muestral:* $S=\\{\\mbox{está, no está}\\}$\n",
    "* *Evento:* los eventos son $\\emptyset,\\,\\{\\mbox{está}\\},\\,\\{\\mbox{no está}\\},\\,S=\\{\\mbox{está, no está}\\}$\n",
    "\n",
    "Aquí, notemos que el espacio muestral y los eventos presentan una estructura muy parecida al Ejemplo 1."
   ]
  },
  {
   "cell_type": "markdown",
   "metadata": {},
   "source": [
    "**Ejemplo 1.4**\n",
    "\n",
    "Toma un dado y lánzalo muchas veces.\n",
    "\n",
    "* *Experimento:* anotar el número de veces requeridas que hay que lanzar para obtener un 6 por primera vez.\n",
    "* *Espacio muestral:* puede ser que el 6 aparezca en la tirada 1; o aparezca en la tirada 2; o aparezce en la tirada 3;... Por lo tanto $S=\\{1,2,3,4,...\\}$\n",
    "* *Evento:* algunos eventos pueden ser $A=\\{4\\}$, $B=\\{7,8,9,...\\}$, $C=\\{2,4,6,8,10,...\\}$, $D=\\{1,2022,2023\\}$.\n",
    "\n",
    "Observemos aquí que el número de eventos es infinito.\n"
   ]
  },
  {
   "cell_type": "markdown",
   "metadata": {},
   "source": [
    "**Ejemplo 1.5**\n",
    "\n",
    "Nuevamente, tienes una tabla.\n",
    "\n",
    "* *Experimento:* calcular el tiempo necesario, en segundos, para realizar una consulta en la tabla\n",
    "* *Espacio muestral:* $S=\\{t\\in\\mathbb{R}\\,:\\,t>0\\}=(0,\\infty)$\n",
    "* *Evento:* algunos eventos son $A=\\{3.6\\}$, $B=(4,5.8)$ o $C=(1,2)\\cup(9,11)$ \n"
   ]
  },
  {
   "cell_type": "markdown",
   "metadata": {},
   "source": [
    "## Tipos de espacios muestrales\n",
    "\n",
    "Cualquier espacio muestral puede ser clasificado dependiendo de su tamaño:\n",
    "\n",
    "* **Finito.** No hay una cantidad infinita de singuletes.\n",
    "\n",
    "* **Infinito discreto.** Hay una cantidad infinita de singuletes, pero se pueden contar (piensa en el *to many* del inglés).\n",
    "\n",
    "* **Continuo.** Hay una cantidad infinita de singuletes y no se pueden contar (piensa en el *to much* del inglés)."
   ]
  },
  {
   "cell_type": "markdown",
   "metadata": {},
   "source": [
    "Los espacios muestrales de los Ejemplos 1, 2 y 3 son de tipo finito; el espacio muestral del Ejemplo 4 es infinito discreto; el espacio muestral del Ejemplo 5 es continuo."
   ]
  }
 ],
 "metadata": {
  "kernelspec": {
   "display_name": "R",
   "language": "R",
   "name": "ir"
  },
  "language_info": {
   "codemirror_mode": "r",
   "file_extension": ".r",
   "mimetype": "text/x-r-source",
   "name": "R",
   "pygments_lexer": "r",
   "version": "3.6.1"
  }
 },
 "nbformat": 4,
 "nbformat_minor": 4
}
