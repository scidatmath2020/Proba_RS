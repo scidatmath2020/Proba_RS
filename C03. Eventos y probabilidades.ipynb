{
 "cells": [
  {
   "cell_type": "markdown",
   "metadata": {},
   "source": [
    "<img src=\"logo.png\">"
   ]
  },
  {
   "cell_type": "markdown",
   "metadata": {},
   "source": [
    "# Eventos y probabilidades\n",
    "\n",
    "La Probabilidad de un evento $A$ es una medida de nuestra creencia de que el evento ocurrirá. Una manera práctica de interpretar esta medida es con el concepto de frecuencia relativa: $$\\mbox{Frecuencia relativa}=\\frac{\\mbox{Frecuencia}}{n}$$\n",
    " donde $n$ es el número de veces que se realiza el experimento y la frecuencia es el número de veces en que ocurrió el evento $A$. \n",
    " \n",
    "## Probabilidades en singuletes.\n",
    "\n",
    "Sea $A$ un evento cualquiera. Entonces su probabilidad, denotada por $P(A)$, cumple $$0\\le P(A)\\le 1.$$ Además, la suma de las probabilidades de todos los singuletes del espacio muestral es 1.\n",
    "\n",
    "Así, si $A$ es un evento, se define su probabilidad como la suma de las probabilidades de todos los eventos simples que contenga. \n",
    "\n",
    "Además, siempre se tiene $P(\\emptyset)=1$ y $P(S)=1$."
   ]
  },
  {
   "cell_type": "markdown",
   "metadata": {},
   "source": [
    "**Ejemplo 3.1**\n",
    "\n",
    "Se lanza una moneda justa al aire dos veces. Encuentra la probabilidad de observar exactamente una cara en los dos tiros.\n",
    "\n",
    "**Solución.**\n",
    "\n",
    "Al lanzar la moneda al aire dos veces obtenemos $2\\times 2=4$ resultados posibles. Buscamos aquellos donde hay exactamente una cara: escogemos en qué lanzamiento caerá la cara y obtenemos $\\binom{2}{1}=2$.\n",
    "\n",
    "Por lo tanto la respuesta es $\\frac{2}{4}=\\frac{1}{2}$."
   ]
  },
  {
   "cell_type": "markdown",
   "metadata": {},
   "source": [
    "**Ejemplo 3.2**\n",
    "\n",
    "Las proporciones de fenotipos sanguíneos A, B, AB y O en la población de todos los de raza caucásica en Estados Unidos se publican como .41, .10, .04 y .45, respectivamente. Si al azar se escoge una persona de este origen étnico en la población, ¿cuál es la probabilidad de que él o ella tengan tipo de sangre A o tipo AB?\n",
    "\n",
    "**Solución.**\n",
    "\n",
    "Tenemos $P(A)=0.41$, $P(B)=0.10$, $P(AB)=0.04$ y $P(O)=0.45$. Notemos que $P(A)+P(B)+P(AB)+P(O)=1$. Nos piden hallar $P(\\mbox{la persona es A o AB})$.\n",
    "\n",
    "Como el espacio muestral es $S=\\{A,B,AB,O\\}$, entonces $$P(\\mbox{la persona es A o AB})=P(\\mbox{\n",
    "la persona es A})+P(\\mbox{la persona es AB})$$\n",
    "\n",
    "La respuesta es $0.41+0.04=0.45$."
   ]
  },
  {
   "cell_type": "markdown",
   "metadata": {},
   "source": [
    "**Ejemplo 3.3**\n",
    "\n",
    "Un plato contiene un dulce amarillo y dos rojos. Escoges al azar dos dulces, uno por uno sin reposición, y anotas su color. ¿Cuál es la probabilidad de haber obtenido dos rojos?\n",
    "\n",
    "**Solución**\n",
    "\n",
    "Tenemos tres dulces. El total de maneras en que pudimos seleccionar dos de ellos es $\\binom{3}{2}=3$. De esas, solo de una forma pudimos seleccionar los rojos. Por lo tanto la respuesta es $\\frac{1}{3}$.\n"
   ]
  },
  {
   "cell_type": "markdown",
   "metadata": {},
   "source": [
    "## Probabilidades para uniones y complementos\n",
    "\n",
    "Cuando podemos escribir el evento de interés como una unión, un complemento o una intersección, hay reglas especiales que simplifican nuestros cálculos. \n",
    "\n",
    "**Regla de la adición.**\n",
    "\n",
    "Supongamos que tenemos $n$ eventos $A_1$, $A_2$,..., $A_n$. Entonces \n",
    "\n",
    "\\begin{eqnarray}\n",
    "&&P(A_1\\cup A_2\\cup...\\cup A_n)\\\\\n",
    "&=&P(A_1)+P(A_2)+...+P(A_n)\\\\\n",
    "&&-P(A_1\\cap A_2)-P(A_1\\cap A_3)-...-P(A_{n-1}\\cap A_{n})\\\\\n",
    "&&+P(A_1\\cap A_2\\cap A_3)+P(A_1\\cap A_2\\cap A_4)+...+P(A_{n-2}\\cap A_{n-1}\\cap A_n)\\\\\n",
    "&&\\vdots\\\\\n",
    "&&(-1)^{n+1}P(A_1\\cap A_2\\cap...\\cap A_n)\n",
    "\\end{eqnarray}\n",
    "\n",
    "En particular:\n",
    "\n",
    "$$P(A\\cup B)=P(A)+P(B)-P(A\\cap B)$$ y $$P(A\\cap B\\cap C)=P(A)+P(B)+P(C)-P(A\\cap B)-P(A\\cap C)-P(B\\cap C)+P(A\\cap B\\cap C)$$"
   ]
  },
  {
   "cell_type": "markdown",
   "metadata": {},
   "source": [
    "Se dice que dos eventos son excluyentes o disjuntos si no pueden ocurrir ambos a la vez. Por ejemplo, en un espacio muestral $S$, todos los singuletes son disjuntos entre sí.\n",
    "\n",
    "En caso de tener dos eventos $A$ y $B$ excluyentes, se tiene $P(A\\cap B)=0$ y por lo tanto $P(A\\cup B)=P(A)+P(B)$. "
   ]
  },
  {
   "cell_type": "markdown",
   "metadata": {},
   "source": [
    "Como $A$ y $A^c$ siempre son excluyentes, y $A\\cup A^c=S$, entonces $1=P(S)=P(A\\cup A^c)=P(A)+P(A^c)$, de modo que\n",
    "\n",
    "**Regla del complemento**\n",
    "\n",
    "Si $A$ es un evento, entonces $P(A^c)=1-P(A)$."
   ]
  },
  {
   "cell_type": "markdown",
   "metadata": {},
   "source": [
    "**Ejemplo 3.4**\n",
    "\n",
    "Un compañía de exploración petrolera planea perforar dos pozos de exploración. Se emplea evidencia del pasado para tener acceso a los posibles resultados de la tabla siguiente:\n",
    "\n",
    "Evento | Descripción | Probabilidad\n",
    "--|--|--|\n",
    "A|Ningún pozo produce petróleo ni gas|0.8\n",
    "B| Exactamente un pozo produce petróleo o gas| 0.18\n",
    "C| Ambos pozoas producen petróleo o gas|0.02\n",
    "\n",
    "Encuentre $P(A\\cup B)$ y $P(B\\cup C)$.\n",
    "\n",
    "**Solución.**\n",
    "\n",
    "Notemos que $A$ y $B$ son mutuamente excluyentes. Por lo tanto $P(A\\cup B)=P(A)+P(B)=0.8+0.18=0.98$. Ahora, responde $P(B\\cup C)$.\n",
    "\n"
   ]
  },
  {
   "cell_type": "markdown",
   "metadata": {},
   "source": [
    "**Ejemplo 3.5**\n",
    "\n",
    "En una encuesta telefónica hecha a mil adultos, a los que respondieron se les preguntó acerca del gasto de una educación universitaria y la relativa necesidad de alguna forma de ayuda financiera. Quienes respondieron fueron clasificados de acuerdo a si actualmente tenían un hijo en la universidad y si pensaban que la carga de un préstamo para casi todos los estudiantes universitarios es demasiado alta, la cantidad correcta o es muy poco. Las proporciones de quienes contestaron se muestran en la tabla de probabilidad de la tabla siguiente. \n",
    "\n",
    "Hijos|Alta|Correcta|Baja\n",
    "--|--|--|--|\n",
    "Hijo en la universidad|0.35|0.08|0.01|\n",
    "Sin hijos en la universidad|0.25|0.20|0.11\n",
    "\n",
    "Suponga que un entrevistado se escoge al azar de entre este grupo.\n",
    "\n",
    "\n",
    "1. ¿Cuál es la probabilidad de que el entrevistado tenga un hijo en la universidad?\n",
    "2. ¿Cuál es la probabilidad de que el entrevistado no tenga un hijo en la universidad?\n",
    "3. ¿Cuál es la probabilidad de que el entrevistado tenga un hijo en la universidad o piense que la carga de un préstamo es demasiado alta?\n"
   ]
  },
  {
   "cell_type": "markdown",
   "metadata": {},
   "source": [
    "**Ejemplo 3.6**\n",
    "\n",
    "Se lanza una moneda tres veces. ¿Cuál es la probabilidad de obtener **al menos** dos caras?"
   ]
  },
  {
   "cell_type": "markdown",
   "metadata": {},
   "source": [
    "**Ejemplo 3.7**\n",
    "\n",
    "En una ciudad, el 75% de la población tiene cabello café; el 40% tiene ojos cafés y el 25% tiene tanto cabello como ojos cafés. Una persona se selecciona al azar. \n",
    "\n",
    "1. ¿Cuál es la probabilidad de que tenga ojos o cabello café?\n",
    "2. ¿Cuál es la probabilidad de que no tenga ni ojos ni cabello café?"
   ]
  },
  {
   "cell_type": "markdown",
   "metadata": {},
   "source": [
    "**Ejemplo 3.8**\n",
    "\n",
    "Un palíndromo es una palabra que se lee igual tanto de izquierda a derecha como de derecha a izquierda. Se escriben todas las palabras de 5 letras que se pueden formar con las letras G, O y D. Selecciona una palabra de ellas al azar. ¿Cuál es la probabilidad de obtener un palíndromo? "
   ]
  },
  {
   "cell_type": "markdown",
   "metadata": {},
   "source": [
    "**Ejemplo 3.9**\n",
    "\n",
    "Un dado es lanzado cuatro veces. ¿Cuál es la probabilidad de obtener al menos un 6?"
   ]
  },
  {
   "cell_type": "markdown",
   "metadata": {},
   "source": [
    "**Ejemplo 3.10**\n",
    "\n",
    "Un entero se selecciona aleatoriamente en el conjunto {1,2,...,1000}. ¿Cuál es la probabilidad de que sea múltiplo de 3, 5 o 6?"
   ]
  },
  {
   "cell_type": "markdown",
   "metadata": {},
   "source": [
    "**Ejemplo 3.11**\n",
    "\n",
    "Encontrar la probabilidad de que al lanzar 10 veces una moneda\n",
    "\n",
    "1. salga cara en exactamente 5 de ellas. \n",
    "2. salga cara entre 3 y 7 veces."
   ]
  },
  {
   "cell_type": "markdown",
   "metadata": {},
   "source": [
    "**Ejemplo 3.12**\n",
    "\n",
    "Un grupo de 4 mujeres y 4 hombres se dividirá en dos equipos de cuatro elementos cada uno. ¿Cuál es la probabilida de que en un equipo queden todos los hombres y en el otro queden todas las mujeres?"
   ]
  }
 ],
 "metadata": {
  "kernelspec": {
   "display_name": "R",
   "language": "R",
   "name": "ir"
  },
  "language_info": {
   "codemirror_mode": "r",
   "file_extension": ".r",
   "mimetype": "text/x-r-source",
   "name": "R",
   "pygments_lexer": "r",
   "version": "3.6.1"
  }
 },
 "nbformat": 4,
 "nbformat_minor": 4
}
