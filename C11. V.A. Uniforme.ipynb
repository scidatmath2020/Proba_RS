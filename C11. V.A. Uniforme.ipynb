{
 "cells": [
  {
   "cell_type": "markdown",
   "metadata": {},
   "source": [
    "<img src=\"logo.png\">"
   ]
  },
  {
   "cell_type": "markdown",
   "metadata": {},
   "source": [
    "Recordemos que, independientemente de si $X$ es una v.a. discreta o continua, se tiene $F_X(x)=P(X\\le x)$. \n",
    "\n",
    "Por otra parte, si $X$ es continua, entonces $f_X(x)$ **no representa lo mismo que $P(X=x)$** como sucede con las distribuciones discretas, sino que $f_X$ es una función tal que $$F_X(x)=\\int_{-\\infty}^x f_X(t)\\,\\mathrm{d}t$$ y por lo tanto $F_X^\\prime(x)=f_X(x)$.\n",
    "\n",
    "Además, si $X$ es continua, siempre se tiene $P(X=x)=0$, de modo que $P(X\\le x)=P(X<x)$ y $P(X\\ge x)=P(X>x)$. De esta manera, $P(u\\le X\\le v)=P(X\\le v)-P(X\\le u)=F_X(v)-F_X(u)$ sin importar cómo son $u$ y $v$ (siempre que $u<v$).\n",
    "\n",
    "\n",
    "# Variables aleatorias uniformes (continuas)\n",
    "\n",
    "La primera distribución continua especial que estudiaremos es la de tipo uniforme. La importancia que tiene radica en que es la \"más aleatoria\" de todas las distribuciones, en el sentido de que es la que se suele usar cuando no se cuenta con información extra sobre el fenómeno y por lo tanto \"cualquier cosa puede pasar\".\n",
    "\n",
    "La distribución uniforme es aquella que puede tomar cualquier valor dentro de un intervalo, todos ellos con la misma probabilidad. Es una distribución continua porque puede tomar cualquier valor y no únicamente un número determinado (como ocurre en las distribuciones discretas).\n",
    "\n",
    "La distribución Uniforme es el modelo continuo más simple. Corresponde al caso de una variable aleatoria que sólo puede tomar valores comprendidos entre dos extremos a y b, de manera que todos los intervalos de una misma longitud (dentro\n",
    "de (a, b)) tienen la misma probabilidad. También puede expresarse como el modelo probabilístico correspondiente a tomar un número al azar dentro de un intervalo (a, b).\n",
    "\n",
    "De esta manera, si $X$ es uniforme en $(a,b)$, escribimos $$X\\sim U(a,b)$$"
   ]
  },
  {
   "cell_type": "markdown",
   "metadata": {},
   "source": [
    "## Características\n",
    "\n",
    "Si $X\\sim U(a,b)$ entonces \n",
    "\n",
    "$$f_X(x)=\\frac{1}{b-a}\\mbox{ para }x\\in[a,b]$$\n",
    "\n",
    "y \n",
    "\n",
    "$$F_X(x)=\\left\\{\\begin{array}{cc}1&\\mbox{si }x>b\\\\\\frac{x}{b-a}&\\mbox{si }x\\in[a,b]\\\\0&\\mbox{si }x<a\\end{array}\\right.$$\n",
    "\n",
    "Además $E[X]=\\frac{a+b}{2}$ y $Var(X)=\\frac{(b-a)^2}{12}$"
   ]
  },
  {
   "cell_type": "markdown",
   "metadata": {},
   "source": [
    "## Observación\n",
    "\n",
    "Supongamos que $X$ es uniforme en $(a,b)$. Si $I=(u,v)$ y $J=(t,w)$ son intervalos de la misma longitud (es decir, $v-u=w-t$) y son subconjuntos del intervalo $(a,b)$, entonces \n",
    "\n",
    "$$P(X\\in I)=P(u<X<v)=F_X(v)-F_X(u)=\\frac{v}{b-a}-\\frac{u}{v-a}=\\frac{v-u}{b-a}$$ y $$P(X\\in J)=P(t<X<w)=F_X(w)-F_X(t)=\\frac{t}{b-a}-\\frac{w}{v-a}=\\frac{t-w}{b-a}$$\n",
    "\n",
    "y por lo tanto $P(X\\in I)=P(X\\in J)$. Es decir, la uniforme asigna la misma probabilidad de ocurrencia a los intervalos de la misma longitud."
   ]
  },
  {
   "cell_type": "markdown",
   "metadata": {},
   "source": [
    "## Uniforme continua en R\n",
    "\n",
    "En **R**, las funciones relacionadas con la distribución uniforme continua son las siguientes:\n",
    "\n",
    "Función|Descripción|Significado|\n",
    "--|--|--|\n",
    "dunif|$f_X$||\n",
    "punif|$F_X$|$P(X\\le x)$|\n",
    "qunif|cuantiles||\n",
    "runif|simulación||\n",
    "\n",
    "De esta manera, se tiene:\n",
    "\n",
    "- $f_X(x)=$`dunif(x,a,b)`\n",
    "\n",
    "- $F_X(x)=$ ``punif(x,a,b)``. \n",
    "\n",
    "- Si debes resolver la ecuación $P(X\\le x)=c$, entonces utilizas ``qunif(c,a,b)`` \n",
    "\n",
    "- Si vas a realizar $N$ observaciones de una uniforme (es decir, vas a seleccionar $N$ números en el intervalo (a,b)), utilizas ``runif(N,a,b)``"
   ]
  },
  {
   "cell_type": "markdown",
   "metadata": {},
   "source": [
    "**Ejemplo 11.1**\n",
    "\n",
    "El tiempo de acceso o búsqueda de un fichero en una antigua unidad de disco fluctúa uniformemente entre 0.1 y 0.5 s.\n",
    "\n",
    "1. ¿Cuál es la probabilidad de que el tiempo de acceso a un fichero sea exactamente 0.125 segundos?\n",
    "2. ¿Cuál es la probabilidad de que el tiempo de acceso a un fichero sea inferior a 0.125 segundos?\n",
    "3. ¿Cuál es la probabilidad de que el tiempo de acceso a un fichero sea superior a 0.125 segundos?\n",
    "4. ¿Cuál es la media del tiempo de acceso a un fichero? \n",
    "5. ¿Qué porcentaje de las búsquedas superan los 0.2 segundos?\n",
    "6. ¿Cuál es valor de tiempo de búsqueda $c$ que es no es superado por el 25% de las búsquedas?\n",
    "7. ¿Cuál es la probabilidad de que el tiempo de acceso a un fichero esté entre 0,125 y 0,2 segundos?"
   ]
  },
  {
   "cell_type": "markdown",
   "metadata": {},
   "source": [
    "**Ejemplo 11.2**\n",
    "\n",
    "La corriente medida, en miliamperes, en un alambre delgado de cobre está en el rango de 0 a 20 miliamperes. ¿Cual es la probabilidad de que una medición de corriente este entre 5 y 10 miliamperes?"
   ]
  },
  {
   "cell_type": "markdown",
   "metadata": {},
   "source": [
    "**Ejemplo 11.3**\n",
    "\n",
    "Suponga un experimento en el que de alguna manera se hace medición  al azar y esta tiene una distribución uniforme en el intervalo $(0,3)$. Calcule la probabilidad de que la medición este entre 1.5 y 2."
   ]
  },
  {
   "cell_type": "markdown",
   "metadata": {},
   "source": [
    "**Ejemplo 11.4**\n",
    "\n",
    "Suponga un experimento en el que de alguna manera se hace una medición al azar y esta puede estar distribuida uniformemente en el intervalo (0,3). Se realizan cinco mediciones independientes. ¿Cuál es la probabilidad de que exactamente dos de ellas estén entre 1 y 2?"
   ]
  },
  {
   "cell_type": "markdown",
   "metadata": {},
   "source": [
    "**Ejemplo 11.5**\n",
    "\n",
    "Las ventas de combustibles en una gasolinera tienen una media de 40,000 litros por día y un mínimo de 30,000 litros por día. Supongamos que una distribución uniforme es apropiada.\n",
    "\n",
    "1. Determine las ventas máximas diarias\n",
    "\n",
    "2. ¿Que porcentaje de días las ventas excederán de 34 000 litros?"
   ]
  },
  {
   "cell_type": "markdown",
   "metadata": {},
   "source": [
    "**Ejemplo 11.6**\n",
    "\n",
    "Supongamos que la variable aleatoria continua $X$, tiene una distribución de tipo uniforme con su valor mas grande igual a 6 y valor esperado de 4.\n",
    "\n",
    "1. ¿Calcule el valor mínimo de $X$?\n",
    "2. ¿Calcule la variancia de $X$?"
   ]
  },
  {
   "cell_type": "markdown",
   "metadata": {},
   "source": [
    "**Ejemplo 11.7**\n",
    "\n",
    "Un satélite que ha cumplido su ciclo en orbita alrededor de la tierra esta a punto de caer en ella. Los especialistas calcularon su caída en algún lugar entre los puntos $P$ y $Q$. Si su comportamiento es uniforme, calcule la probabilidad de que la distancia con respecto a $P$ sea mas de 4 veces la distancia con respecto a $Q$. "
   ]
  },
  {
   "cell_type": "markdown",
   "metadata": {},
   "source": [
    "**Ejemplo 11.8**\n",
    "\n",
    "Considere una variable aleatoria $X$ que representa el tiempo de vuelo de un avión que viaja de Chicago a Nueva York. Suponga que el tiempo de vuelo es cualquier valor en el intervalo de 120 minutos a 140 minutos.\n",
    "\n",
    "1. ¿Cuál es la probabilidad de que el tiempo de vuelo se encuentre entre 120 y 130 minutos?\n",
    "2. ¿cuál es la probabilidad de un tiempo de vuelo entre 128 y 136 minutos?\n",
    "3. En promedio, ¿cuánto tiempo de vuelo hace un avión?"
   ]
  },
  {
   "cell_type": "markdown",
   "metadata": {},
   "source": [
    "**Ejemplo 11.9**\n",
    "\n",
    "Al estudiar licitaciones de embarque, una empresa dedicada a la fabricación de circuitos impresos, encuentra que los contratos nacionales tienen licitaciones distribuidas uniformemente entre 20 y 25 unidades (en miles de dólares).\n",
    "\n",
    "1. ¿Cuál es la probabilidad de que la licitación esté entre 22 y 24 (mil dólares)?\n",
    "2. ¿Cuál es la probabilidad de que sea inferior a 22 (mil dólares)?\n",
    "3. ¿Cuál es la probabilidad de que rebase los 24 (mil dólares)?\n",
    "4. ¿Cuál es el valor esperado?\n",
    "\n"
   ]
  }
 ],
 "metadata": {
  "kernelspec": {
   "display_name": "R",
   "language": "R",
   "name": "ir"
  },
  "language_info": {
   "codemirror_mode": "r",
   "file_extension": ".r",
   "mimetype": "text/x-r-source",
   "name": "R",
   "pygments_lexer": "r",
   "version": "3.6.1"
  }
 },
 "nbformat": 4,
 "nbformat_minor": 4
}
