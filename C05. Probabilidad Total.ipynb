{
 "cells": [
  {
   "cell_type": "markdown",
   "metadata": {},
   "source": [
    "<img src=\"logo.png\">"
   ]
  },
  {
   "cell_type": "markdown",
   "metadata": {},
   "source": [
    "# Probabilidad Total\n",
    "\n",
    "Reconsideremos el experimento referente a daltonismo visto en el capítulo anterior. Observe que los dos eventos\n",
    "\n",
    "$B$: la persona seleccionada es un hombre\n",
    "\n",
    "$B^c$: la persona seleccionada es una mujer\n",
    "\n",
    "tomados juntos conforman el espacio muestral $S$, formado de hombres y mujeres. Como los daltónicos pueden ser hombres o mujeres, el evento $A$, que es que una persona sea daltónica, está formado de los eventos simples que estén en $A$ y además en $B$, y de los eventos simples que estén en $A$ y además en $B^c$. \n",
    "\n",
    "Como estas dos intersecciones son mutuamente excluyentes, se puede escribir el evento $A$ como $A=(A\\cap B)\\cup(A\\cap B^c)$ y por lo tanto $P(A)=0.04+0.002=0.042$"
   ]
  },
  {
   "cell_type": "markdown",
   "metadata": {},
   "source": [
    "Supongamos que el espacio muestral $S$ se puede dividir en $k$ eventos $E_1$, $E_2$,..., $E_k$, donde estos eventos son disjuntos por parejas (es decir, $E_i\\cap E_j=\\emptyset$ siempre que $i\\neq j$) y su unión es todo el espacio $S$.\n",
    "\n",
    "Si $A$ es cualquier evento, entonces $$A=(A\\cap E_1)\\cup(A\\cap E_2)\\cup\\cdots\\cup(A\\cap E_k)$$\n",
    "\n",
    "Como los $E_i$ son disjuntos dos a dos, entonces $$P(A)=P(A\\cap E_1)+P(A\\cap E_2)+\\cdots+P(A\\cap E_k)$$\n",
    "\n",
    "Pero, por probabilidad condicionada, sabemos que $P(A\\cap E_i)=P(A|E_i)P(E_i)$ para toda $i$. Por lo tanto \n",
    "\n",
    "$$P(A)=P(A|E_1)P(E_1)+P(A|E_2)P(E_2)+\\cdots+P(A|E_k)P(E_k)$$"
   ]
  },
  {
   "cell_type": "markdown",
   "metadata": {},
   "source": [
    "Esta última expresión se conoce como **Ley de la Probabilidad Total**. Recuerda que los $E_i$ deben ser disjuntos por parejas y su unión debe ser todo el espacio muestral $S$."
   ]
  },
  {
   "cell_type": "markdown",
   "metadata": {},
   "source": [
    "**Ejemplo 5.1**\n",
    "\n",
    "\n",
    "El jugador A ha entrado a un torneo de golf pero no está seguro si el jugador B entrará. El jugador A tiene una probabilidad de 1/6 de ganar el torneo si el jugador B entra y una probabilidad de 3/4 de ganar si el jugador B no entra al torneo. Si la probabilidad de que el jugador B entre al torneo es 1/3, encuentre la probabilidad de que el jugador A gane el torneo."
   ]
  },
  {
   "cell_type": "markdown",
   "metadata": {},
   "source": [
    "**Ejemplo 5.2**\n",
    "\n",
    "Un fotógrafo debe tomar 4 fotos durante una carrera. Cada vez que un corredor pasa frente a él, hay 50% de probabilidades de que el corredor sea fotografiado. Además, para cualesquiera dos corredores, la probabilidad de que le tome foto a uno es independiente de que se la tome a otro. Una vez que toma las 4 fotos, el fotógrafo se retira.\n",
    "\n",
    "Si eres el 6to corredor que pasa frente al fotógrafo, ¿cuál es la probabilidad de que te tome una foto?"
   ]
  },
  {
   "cell_type": "markdown",
   "metadata": {},
   "source": [
    "**Ejemplo 5.3**\n",
    "\n",
    "Se dispone de tres cajas con focos. La primera contiene 10 focos, de los cuales hay cuatro fundidos; en la segunda hay seis focos, estando uno de ellos fundido, y en la tercera caja hay tres focos fundidos de un total de ocho. ¿Cuál es la probabilidad de que al tomar una foco al azar de una cualquiera de las cajas, esté fundido?"
   ]
  },
  {
   "cell_type": "markdown",
   "metadata": {},
   "source": [
    "**Ejemplo 5.4**\n",
    "\n",
    "En una titulación el alumnado puede optar por cursar las asignaturas optativas A y B, pero no ambas. En un determinado curso, el 90% de los alumnos estudia la asignatura A y el resto la B. El 30% de los que estudian la asignatura A son chicos y de los que estudian la asignatura B son chicos el 40%. Elegido un estudiante al azar, ¿cuál es la probabilidad de que sea chica?"
   ]
  },
  {
   "cell_type": "markdown",
   "metadata": {},
   "source": [
    "**Ejemplo 5.5**\n",
    "\n",
    "Una pequeña empresa desarrolladora de videojuegos opera con tres grandes regiones de un país: X, Y, Z. El 50% de las operaciones las realiza en la región X, el 40% en la región Y, mientras que sólo un 10% de las operaciones las realiza en la región Z. Se ha estimado, por la larga experiencia, que el tanto por ciento de clientes de la región X que efectúan siempre el pago de los pedidos es del 99%, mientras que en la región Y es del 98% y en la región Z del 92%. Si se elige un cliente al azar, calcula la probabilidad de que sea moroso."
   ]
  },
  {
   "cell_type": "markdown",
   "metadata": {},
   "source": [
    "**Ejemplo 5.6**\n",
    "\n",
    "El 42% de la población activa de cierto pais está formada por mujeres. Se sabe que un 24% de las mujeres y un 16% de los hombres están en el paro. ¿Cuál es la probabilidad de que una persona elegida al azar de la población activa en esta pais esté en el paro?"
   ]
  },
  {
   "cell_type": "markdown",
   "metadata": {},
   "source": [
    "**Ejemplo 5.7**\n",
    "\n",
    "En una fábrica se embalan (en cajas) galletas en 4 cadenas de montaje: A1, A2, A3 y A4. El 35% de la producción total se embala en la cadena A1 y el 20%, 24% y 21% en A2, A3 y A4 respectivamente. \n",
    "\n",
    "Los datos indican que no se embalan correctamente un porcentaje pequeño de las cajas; el 1% de A1, el 3% de A2, el 2.5% de A3 y el 2% de A4. \n",
    "\n",
    "¿Cuál es la probabilidad de que una caja elegida al azar de la producción total sea defectuosa?"
   ]
  },
  {
   "cell_type": "markdown",
   "metadata": {},
   "source": [
    "## Teorema de Bayes\n",
    "\n",
    "Podemos calcular la probabilidad de un suceso $A$, sabiendo además que ese $A$ cumple cierta característica que condiciona su probabilidad. \n",
    "\n",
    "El Teorema de la Probabilidad total hace inferencia sobre un suceso $A$, a partir de los resultados de los sucesos $E_i$ siempre que estos formen una partición del espacio muestral. Por su parte, Bayes calcula la probabilidad de cada $E_i$ condicionado a $B$."
   ]
  },
  {
   "cell_type": "markdown",
   "metadata": {},
   "source": [
    "**Teorema de Bayes**\n",
    "\n",
    "Sean $E_1,E_2,...,E_k$ eventos disjuntos dos a dos cuya unión es todo $S$. Si ocurre un evento $A$, se cumple: \n",
    "\n",
    "$$P(E_i|A)=\\frac{P(E_i)P(A|E_i)}{P(E_1)P(A|E_1)+P(E_2)P(A|E_2)+...+P(E_k)P(A|E_k)}$$"
   ]
  },
  {
   "cell_type": "markdown",
   "metadata": {},
   "source": [
    "Otra forma muy útil del Teorema de Bayes es para \"intercambiar el orden de la condicionalidad\""
   ]
  },
  {
   "cell_type": "markdown",
   "metadata": {},
   "source": [
    "**Teorema**\n",
    "\n",
    "Si $A$ y $B$ son eventos, entonces $$P(B|A)=\\frac{P(B)}{P(A)}P(A|B)$$"
   ]
  },
  {
   "cell_type": "markdown",
   "metadata": {},
   "source": [
    "**Ejemplo 5.8**\n",
    "\n",
    "En SciData, la probabilidad de que a un alumno seleccionado al azar le guste el helado es del 60%, mientras que la probabilidad de que a un alumno le guste el pastel es del 36%. Además, se sabe que la probabilidad de que a un alumno le guste el pastel dado que le gusta el helado es del 40%. Calcular la probabilidad de que a un alumno le guste el helado, dado que le gusta el pastel."
   ]
  },
  {
   "cell_type": "markdown",
   "metadata": {},
   "source": [
    "**Ejemplo 5.9**\n",
    "\n",
    "El 20% de los empleados de una empresa son ingenieros y otro 20% son economistas. El 75% de los ingenieros ocupan un puesto directivo y el 50% de los economistas también, mientras que de los no ingenieros y no economistas solamente el 20% ocupa un puesto directivo. ¿Cuál es la probabilidad de que un empleado directivo elegido al azar sea ingeniero?"
   ]
  },
  {
   "cell_type": "markdown",
   "metadata": {},
   "source": [
    "**Ejemplo 5.10**\n",
    "\n",
    "La probabilidad de que haya un accidente en una fábrica que dispone de alarma es 0.1. La probabilidad de que suene esta si se ha producido algún incidente es de 0.97 y la probabilidad de que suene si no ha sucedido ningún incidente es 0.02.\n",
    "\n",
    "En el supuesto de que haya funcionado la alarma, ¿cuál es la probabilidad de que no haya habido ningún incidente?"
   ]
  },
  {
   "cell_type": "markdown",
   "metadata": {},
   "source": [
    "**Ejemplo 5.11**\n",
    "\n",
    "Una empresa de celulares tiene dos máquinas A y B. El 54% de los celulares producidos son hechos por la máquina A y el resto por la máquina B. No todos los celulares producidos están enbuen estado. \n",
    "\n",
    "La proporción de celulares defectuosos hechos por A es 0.2 y por B es 0.5. ¿Cuál es la probabilidad de que un celular de dicha fábrica sea defectuoso? ¿Cuál es la probabilidad de que, sabiendo que un celular es defectuoso, proceda de la máquina A?"
   ]
  },
  {
   "cell_type": "markdown",
   "metadata": {},
   "source": [
    "**Ejemplo 5.12**\n",
    "\n",
    "Tres cajas contienen bolas blancas y negras. La composición de cada una de ellas es la siguiente: C1 = {3B, 1N}, C2 = {2B, 2N}, C3 = {1B, 3N}.\n",
    "\n",
    "Se elige al azar una de las cajas y se extrae de ella una bola alazar la cual resulta ser blanca. ¿Cuál es la caja con mayorprobabilidad de haber sido elegida?"
   ]
  },
  {
   "cell_type": "markdown",
   "metadata": {},
   "source": [
    "**Ejemplo 5.13**\n",
    "\n",
    "Volvemos al **Ejemplo 5.6**. Supongamos que se elige un adulto al azar para rellenar un formulario y se observa que no tiene trabajo. ¿Cuál es la probabilidad de que la persona elegida sea mujer?"
   ]
  },
  {
   "cell_type": "markdown",
   "metadata": {},
   "source": [
    "**Ejemplo 5.14**\n",
    "\n",
    "Volviendo **al Ejemplo 5.7** de las galletas: supongamos que descubrimos que una caja es defectuosa. Calcula la probabilidad de que la caja provenga de la cadena A1."
   ]
  }
 ],
 "metadata": {
  "kernelspec": {
   "display_name": "R",
   "language": "R",
   "name": "ir"
  },
  "language_info": {
   "codemirror_mode": "r",
   "file_extension": ".r",
   "mimetype": "text/x-r-source",
   "name": "R",
   "pygments_lexer": "r",
   "version": "3.6.1"
  }
 },
 "nbformat": 4,
 "nbformat_minor": 4
}
