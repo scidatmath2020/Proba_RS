{
 "cells": [
  {
   "cell_type": "markdown",
   "metadata": {},
   "source": [
    "<img src=\"logo.png\">"
   ]
  },
  {
   "cell_type": "markdown",
   "metadata": {},
   "source": [
    "# Conteo\n",
    "\n",
    "## Principio Multiplicativo del conteo\n",
    "\n",
    "Contar los elementos de un conjunto no es tan sencillo como numerarlos: 1, 2, 3,...\n",
    "\n",
    "Sin embargo, tenemos un principio básico de conteo, que es muy útil, conocido como **Principio multiplicativo de conteo**, el cual nos permite resolver una gran cantidad de problemas.\n",
    "\n",
    "**Principio Multiplicativo de conteo**\n",
    "\n",
    "Si una tarea puede realizarse de $m$ maneras distintas y, para cada una de estas formas, una segunda tarea puede realizarse de $n$ maneras diferentes, entonces las dos tareas juntas pueden hacerse (en ese orden) de $m\\times n$ formas diferentes."
   ]
  },
  {
   "cell_type": "markdown",
   "metadata": {},
   "source": [
    "En particular, si tienes tienes una sucesión $(a_1,a_2,...,a_t)$ de $t$ objetos, donde $a_1$ puede tomar $k_1$ valores; $a_2$ puede tomar $k_2$ valores;...;$a_t$ puede tomar $k_t$ valores, entonces tienes $k_1\\times k_2\\times...\\times k_t$ posibles sucesiones."
   ]
  },
  {
   "cell_type": "markdown",
   "metadata": {},
   "source": [
    "**Ejemplo 2.1**\n",
    "\n",
    "En el **Ejemplo 1.2** vimos que si lanzamos dos monedas, entonces tenemos cuatro resultados posibles: $\\{(ca,ca),(ca,cz),(cz,ca),(cz,cz)\\}.$\n",
    "\n",
    "Para saber el número de resultados posibles (es decir, cuántos elementos tiene el espacio muestral), tuvimos que enlistar todos. Sin embargo, haciendo uso del Principio de Multiplicación, tenemos: la primer moneda puede tomar 2 valores; la segunda moneda puede tomar dos valores. Por lo tanto hay $2\\times 2=4$ valores posibles."
   ]
  },
  {
   "cell_type": "markdown",
   "metadata": {},
   "source": [
    "**Ejemplo 2.2** \n",
    "\n",
    "¿Cuántas palabras de tres letras se pueden hacer con las letras $a$ y $b$?\n",
    "\n",
    "Podríamos listar todas las palabras posibles, pero **no nos piden que digamos explícitamente cuáles son, sino cuántas hay**. Ahí radica la fuerza del Principio Multiplicativo: la primer letra puede tomar dos valores; la segunda puede tomar dos valores; la tercera puede tomar 2 valores. Por lo tanto hay $2\\times2\\times2=8$ palabras diferentes.\n",
    "\n",
    "¿Te animas a escribirlas todas?"
   ]
  },
  {
   "cell_type": "markdown",
   "metadata": {},
   "source": [
    "**Ejemplo 2.3**\n",
    "\n",
    "¿Cuántas placas distintas hay con dos letras a la izquierda tres números a la derecha? Considera el alfabeto castellano. \n",
    "\n",
    "Nuevamente, mediante el Principio Multiplicativo: la primer letra tiene 27 posibilidades; la segunda tiene 27 posibilidades; el primer número tiene 10 posibilidades; el segundo número tiene 10 posibilidades; el tercer número tiene 10 posibilidades. Por lo tanto son $27\\times27\\times10\\times10\\times10=27^2\\times10^3=729000$"
   ]
  },
  {
   "cell_type": "markdown",
   "metadata": {},
   "source": [
    "**Ejempolo 2.4**\n",
    "\n",
    "Una hebra de ADN es una cadena de polímeros formada por cuatro nucleótidos: adenina, citosina, guanina y timina. Puede pensarse como una secuencia de A's, C's, G's y T's. El ADN está estructurado como una doble hélice con dos hebras emparejadas que corren en direcciones opuestas en el cromosoma. Los nucleótidos siempre se emparejan de la misma manera: A con T y C con G. \n",
    "\n",
    "Una secuencia palindrómica es igual a su \"complemento inverso\". Por ejemplo, las secuencias ACGT y GTTAGCTAAC son secuencias palindrómicas: el complemento de ACGT es TGCA y el inverso de este vuelve a ser ACGT; el complemento de GTTAGCTAAC es CAATCGATTG y el inverso de este vuelve a ser GTTAGCTAAC. \n",
    "\n",
    "Pero ACCA no palindrómica: el complemento de ACCA es TGGT y el inverso de este es TGGT que no es igual a ACCA. \n",
    "\n",
    "Tales secuencias juegan un papel importante en Biología Molecular.\n",
    "\n",
    "¿Cuantas secuencias de tamaño 6, en general, existen?\n",
    "¿Cuántas secuencias palindrómicas existen?\n",
    "\n",
    "**Solución.**\n",
    "\n"
   ]
  },
  {
   "cell_type": "markdown",
   "metadata": {},
   "source": [
    "**Ejemplo 2.5**\n",
    "\n",
    "Héctor es estudiante de la UAM-I. Está tomando cinco materias. En cada una puede obtener una calificación: N, S, B o MB. ¿De cuántas maneras puede salir en sus calificaciones si tuvo al menos una MB?\n",
    "\n",
    "**Solución.**"
   ]
  },
  {
   "cell_type": "markdown",
   "metadata": {},
   "source": [
    "**Ejemplo 2.6**\n",
    "\n",
    "Se dispone de 4 lienzos de colores distintos: azul, rojo, verde, morado. \n",
    "\n",
    "¿Cuántas banderas bicolores se puede hacer? No se permite colores repetidos **y cada bandera tiene asta**.\n",
    "\n",
    "**Solución.**\n",
    "\n",
    "El hecho de que cada bandera tiene un asta nos dice que la bandera rojo-azul es diferente que la azul-rojo. Es decir, importa el orden en que se colocan los dos colores de las banderas. \n",
    "\n",
    "Así, para el primer color (digamos, el que está en el asta) tenemos 4 opciones. Para el segundo color **ya solo tenemos 3 opciones porque no podemos repetir la que usamos anteriormente**. Por lo tanto hay $4\\times 3=12$ banderas diferentes."
   ]
  },
  {
   "cell_type": "markdown",
   "metadata": {},
   "source": [
    "**Ejemplo 2.7**\n",
    "\n",
    "Mismo que el anterior **pero no hay asta**.\n",
    "\n",
    "**Solución.**\n",
    "\n",
    "Del anterior, sabemos que hay 12 banderas con hasta. Ahora, cada bandera \"*color 1, color 2*\" es la misma que \"*color 2, color 1*\". Por lo tanto estamos contando cada una de las banderas dos veces. Luego, el total de banderas con asta es el doble del total de sin asta. Por lo tanto hay $\\frac{12}{2}=6$ banderas sin asta."
   ]
  },
  {
   "cell_type": "markdown",
   "metadata": {},
   "source": [
    "**Ejemplo 2.8**\n",
    "\n",
    "¿De cuántas maneras se pueden sentar 5 personas en cinco sillas numeradas?\n",
    "\n",
    "**Solución.**\n",
    "\n",
    "- La primer persona puede sentarse en cualquiera de los 5 lugares. \n",
    "- La persona 2 ya solo se puede sentar en alguno de los 4 lugares restantes.\n",
    "- La persona 3 ya solo se puede sentar en alguno de los 3 lugares restantes.\n",
    "- La persona 4 ya solo se puede sentar en alguno de los 2 lugares restantes.\n",
    "- La persona 5 ya solo se puede sentar en el único lugar restante.\n",
    "\n",
    "Por lo tanto se pueden sentar de $5\\times 4\\times 3\\times 2\\times 1=120$ maneras diferentes."
   ]
  },
  {
   "cell_type": "markdown",
   "metadata": {},
   "source": [
    "## Permutaciones\n",
    "\n",
    "Dado un conjunto de objetos diferentes, una **permutación** es una ordenación de todos los elementos del conjunto. Por ejemplo, si tengo el conjunto de palabras $\\{$hola,cómo,estás$\\}$ entonces hay 6 permutaciones:\n",
    "\n",
    "- (hola,cómo,estás)\n",
    "- (hola,estás,cómo)\n",
    "- (como,hola,estás)\n",
    "- (como,estás,hola)\n",
    "- (estás,hola,cómo)\n",
    "- (estás,cómo,hola)\n",
    "\n",
    "Observa que las hemos escrito en paréntesis. Esa notación la hacemos para recordarnos que el orden de los elementos importa."
   ]
  },
  {
   "cell_type": "markdown",
   "metadata": {},
   "source": [
    "Dado un conjunto con $n$ elementos, ¿cuántas permutaciones existen?\n",
    "\n",
    "El **Ejemplo 2.8** nos da una idea de la respuesta: tenemos un \"arreglo de espacios vacíos entre paréntesis\": $\\underbrace{(\\cdot,\\cdot,...,\\cdot)}_{n \\mbox{ lugares}}$\n",
    "\n"
   ]
  },
  {
   "cell_type": "markdown",
   "metadata": {},
   "source": [
    "- En el lugar 1 podemos colocar cualquiera de los $n$ elementos del conjunto: tiene $n$ opciones.\n",
    "- En el lugar 2 podemos colocar cualquiera de los $n-1$ elementos restantes: tiene $n-1$ opciones.\n",
    "- En el lugar 3 podemos colocar cualquiera de los $n-2$ elementos restantes: tiene $n-2$ opciones.\n",
    "...\n",
    "- En el lugar $n-1$ podemos colocar cualquiera de los 2 elementos restantes: tiene 2 opciones.\n",
    "- En el lugar $n$ podemos colocar únicamente el último restante: tiene 1 opciones.\n",
    "\n",
    "Por el Principio Multiplicativo, entonces hay $n\\times n-1\\times n-2\\times\\cdots\\times2\\times1$ permutaciones.\n",
    "\n",
    "Este número se conoce como *factorial de $n$* y se denota por $n!$.\n",
    "\n",
    "Así, por ejemplo, $2!=1\\times2=2$; $4!=1\\times2\\times3\\times4=24$; $5!=1\\times2\\times3\\times4\\times5=120$, que es precisamente la respuesta del **Ejemplo 2.8**.\n"
   ]
  },
  {
   "cell_type": "markdown",
   "metadata": {},
   "source": [
    "**Muy importante.** Hemos definido el símbolo $n!$ cuando $n>0$. Para $n=0$ se define *el factorial de 0* como 1. Es decir, $0!=1$"
   ]
  },
  {
   "cell_type": "markdown",
   "metadata": {},
   "source": [
    "En **R**, el comando que utilizamos para calcular un factorial es ``factorial(n)``."
   ]
  },
  {
   "cell_type": "code",
   "execution_count": null,
   "metadata": {},
   "outputs": [],
   "source": [
    "factorial(5)"
   ]
  },
  {
   "cell_type": "markdown",
   "metadata": {},
   "source": [
    "**Ejemplo 2.9**\n",
    "\n",
    "Luis tiene en su oficina 15 libros (5 de matemáticas y 10 novelas) y un estante para libros con tres niveles: superior, medio e inferior. Si cada nivel del estante debe tener exactamente 5 libros y sus libros se colocan aleatoriamente...\n",
    "\n",
    "¿De cuántas maneras puede acomodar todos sus libros?\n",
    "¿De cuántas maneras puede acomodar todos sus libros de tal forma que en el nivel inferior estén todos los de matemáticas?\n",
    "\n",
    "**Solución.**"
   ]
  },
  {
   "cell_type": "markdown",
   "metadata": {},
   "source": [
    "**Ejemplo 2.10**\n",
    "\n",
    "Una bolsa contiene seis fichas de Scrabble con las letras A, D, M, N, O, R. Metes la mano a la bolsa y vas sacando cada una de las fichas y no las devuelves a la bolsa. \n",
    "\n",
    "¿Cuántas palabras pudiste formar?\n",
    "¿Cuántas palabras tienen la letra M en la segunda posición? ¿Cuántas palabras contienen la sílaba AD?"
   ]
  },
  {
   "cell_type": "markdown",
   "metadata": {},
   "source": [
    "**Ejemplo 2.11**\n",
    "\n",
    "Del mismo ejemplo anterior, si cada vez indevuelves las fichas a la bolsa\n",
    "\n",
    "¿Cuántas palabras diferentes puedes hacer?\n",
    "¿Cuántas tienen la letra M en la segunda posición?\n",
    "¿Cuántas contienen la sílaba AD?"
   ]
  },
  {
   "cell_type": "markdown",
   "metadata": {},
   "source": [
    "**Ejemplo 2.12**\n",
    "\n",
    "De un grupo de 5 estudiantes quiere elegirse una comisión de 3 para que visiten juntos un museo. ¿Cuántas comisiones diferentes se pueden hacer?\n",
    "\n",
    "**Solución**\n",
    "\n",
    "Primero elegimos a los asistentes: para el primer estudiante tenemos 5 opciones posibles; para el segundo tenemos 4 opciones posibles; para el tercero tenemos 3 opciones posibles. Esto nos da $5\\times4\\times3=60$ formas. \n",
    "\n",
    "Digamos que elegimos a Luis, Ricardo y Helena. Notemos que los tres van a ir juntos al museo. O sea que es lo mismo haber hecho la elección LRH que LHR y cualquiera de las permutaciones, que son $3!=6$. \n",
    "\n",
    "Esto significa que cada una de las 60 elecciones que hacemos se cuenta 6 veces. Por lo tanto, el total de maneras en que podemos seleccionar a quienes van a ir al museo es $\\frac{60}{6}=10$.\n"
   ]
  },
  {
   "cell_type": "markdown",
   "metadata": {},
   "source": [
    "## Combinaciones\n",
    "\n",
    "El problema anterior nos ofrece otro método general de conteo. Observemos que, desnudando el ejercicio, nos pidieron hacer una selección de tres elementos de un grupo de 5. En abstracto, se nos presenta el problema de elegir $k$ elementos de un grupo de $n$. Esto es una **combinación**.\n",
    "\n",
    "Matemáticamente, la respuesta a esta pregunta se denota por $\\binom{n}{k}$ y se lee \"$n$ en $k$\".\n",
    "\n",
    "¿Cuánto vale este número? Se puede demostrar que simplemente es $\\frac{n!}{k!(n-k)!}$. Por ejemplo, $$\\binom{5}{3}=\\frac{5!}{3!(5-3)!}=\\frac{5!}{3!2!}=\\frac{120}{6\\cdot2}=\\frac{120}{12}=10$$"
   ]
  },
  {
   "cell_type": "markdown",
   "metadata": {},
   "source": [
    "Si te preguntas por qué $\\binom{n}{k}=\\frac{n!}{k!(n-k)!}$, la respuesta es muy parecida a como hicimos el **Ejemplo 2.12**:\n",
    "\n",
    "$\\binom{n}{k}$ es el número de formas de elegir $k$ elementos diferentes dentro de un grupo de $n$ elementos diferentes. Así, para el primer elemento tenemos $n$ opciones; para el segundo tenemos $n-1$ opciones; para el tercero tenemos $n-2$ opciones;...; para el $k$-ésimo elemento tenemos $n-k+1$ opciones. Por lo tanto, hay $n\\times(n-1)\\times(n-2)\\times...\\times(n-k+1)$ opciones para elegir, ordenadamente, a los $k$ elementos.\n",
    "\n",
    "Pero, como en realidad el orden no nos interesa, cada elección de $k$ elementos es la misma que cualquiera de las permutaciones de los elementos que forman esa selección: $k!$. Por lo tanto cada elección ordenada representa $k!$ elecciones desordenadas, así que el total de maneras de elegir a los $k$ de un grupo de $n$ es $$\\frac{n\\times(n-1)\\times(n-2)\\times...\\times(n-k+1)}{k!}.$$\n",
    "\n",
    "Multiplicando por $(n-k)!$ tanto numerador como denominador se obtiene $\\frac{n!}{k!(n-k)!}$."
   ]
  },
  {
   "cell_type": "markdown",
   "metadata": {},
   "source": [
    "En **R**, el comando que utilizamos para calcular $\\binom{n}{k}$ es ``choose(n,k)``"
   ]
  },
  {
   "cell_type": "code",
   "execution_count": null,
   "metadata": {},
   "outputs": [],
   "source": [
    "choose(5,3)"
   ]
  },
  {
   "cell_type": "markdown",
   "metadata": {},
   "source": [
    "**Ejercicio**\n",
    "\n",
    "Calcular $\\binom{7}{2}$, $\\binom{7}{5}$, $\\binom{5}{1}$, $\\binom{5}{4}$ en **R**."
   ]
  },
  {
   "cell_type": "markdown",
   "metadata": {},
   "source": [
    "**Importante.** Notemos que elegir $k$ elementos de un grupo de $n$ es lo mismo que decidir cuáles $n-k$ elementos **NO** queremos. Por lo tanto $$\\binom{n}{k}=\\binom{n}{n-k}$$"
   ]
  },
  {
   "cell_type": "markdown",
   "metadata": {},
   "source": [
    "Además, $\\binom{n}{1}=n$ siempre (pues es elegir un elemento de un grupo de $n$) y $\\binom{n}{0}=1$ siempre (pues es \"no elegir\" elementos, aunque también se puede ver a partir del hecho de que $0!=1$)"
   ]
  },
  {
   "cell_type": "markdown",
   "metadata": {},
   "source": [
    "**Ejemplo 2.13**\n",
    "\n",
    "En el **Ejemplo 1.2**, observamos que si lanzamos dos monedas entonces hay 1 evento *de tamaño 0* ; hay 4 eventos de *tamaño 1*; hay 6 eventos de *tamaño 2*; hay 4 eventos de *tamaño 3* y hay un solo evento de *tamaño 4*\n",
    "\n",
    "Para verlo en ese momento, listamos cada una de las clases por su tamaño. Utilizando combinaciones podemos llegar a los mismos resultados de manera más rápida: Tenemos un espacio muestral de tamaño 4: $S=\\{(ca,ca),(ca,cz),(cz,ca),(cz,cz)\\}$.\n",
    "\n",
    "- Los eventos eventos de tamaño cero se forman no eligiendo ninguno de esos cuatro elementos: $\\binom{4}{0}=1$.\n",
    "- Los eventos eventos de tamaño uno se forman eligiendo uno de esos cuatro elementos: $\\binom{4}{1}=4$.\n",
    "- Los eventos eventos de tamaño dos se forman eligiendo dos de esos cuatro elementos: $\\binom{4}{2}=6$.\n",
    "- Los eventos eventos de tamaño tres se forman eligiendo tres de esos cuatro elementos: $\\binom{4}{3}=4$.\n",
    "- Los eventos eventos de tamaño cuatro se forman eligiendo cuatro de esos cuatro elementos: $\\binom{4}{4}=1$.\n",
    "\n"
   ]
  },
  {
   "cell_type": "markdown",
   "metadata": {},
   "source": [
    "Y si observamos bien, el total de eventos fue 16, que es igual a $2^4$ y el espacio muestral tiene 4 elementos.\n",
    "\n",
    "Esta relación no es casualidad."
   ]
  },
  {
   "cell_type": "markdown",
   "metadata": {},
   "source": [
    "En general, si tienes un conjunto de $n$ elementos, como $\\binom{n}{k}$ es el número de maneras distintas en que puedes seleccionar $k$ elementos de ese conjunto, entonces $\\binom{n}{k}$ **también representa el total de subconjunto de tamaño $k$**."
   ]
  },
  {
   "cell_type": "markdown",
   "metadata": {},
   "source": [
    "Por lo tanto $\\binom{n}{0}$ es el total de subconjuntos con 0 elementos; $\\binom{n}{1}$ es el total de subconjuntos con 1 elemento; $\\binom{n}{2}$ es el total de subconjuntos con 2 elementos;...;$\\binom{n}{n}$ es el total de subconjuntos con $n$ elementos.\n",
    "\n",
    "Luego, el total de subconjuntos que tiene un conjunto de $n$ elementos es $$\\binom{n}{0}+\\binom{n}{1}+\\binom{n}{2}+...+\\binom{n}{n},$$\n",
    "\n",
    "que también es la cantidad de eventos que tiene un espacio muestral con $n$ resultados posibles."
   ]
  },
  {
   "cell_type": "markdown",
   "metadata": {},
   "source": [
    "**Teorema 2.14**\n",
    "\n",
    "Si $S$ un conjunto de $m$ elementos diferentes, entonces tiene $2^m$ subconjuntos diferentes."
   ]
  },
  {
   "cell_type": "markdown",
   "metadata": {},
   "source": [
    "*Demostración (solo para quienes les interese).*\n",
    "\n",
    "Si los elementos de $S$ son $a_1,a_2,...,a_m$, entonces un subconjunto de $S$ es una palabra de $m$ letras donde cada una puede ser $s$ (\"el elemento sí está en el subconjunto\") o $n$ (\"el elemento no está en el conjunto\"). Por ejemplo, la palabra $\\underbrace{nnn...n}_{m\\mbox{ veces}}$ representa al conjunto vacío, en tanto la palabra $nsns\\underbrace{nnn...n}_{m-4}$ representa al subconjunto $\\{a_2,a_4\\}$\n"
   ]
  },
  {
   "cell_type": "markdown",
   "metadata": {},
   "source": [
    "En particular, si tienes una población de $m$ elementos, puedes hacer $2^m$ muestras diferentes (si no te importa el orden), incluyendo a la muestra vacía. Y si tienes un espacio muestral de $m$ elementos, entonces hay $2^m$ eventos."
   ]
  },
  {
   "cell_type": "markdown",
   "metadata": {},
   "source": [
    "Además, del teorema anterior y la discusión previa se sigue que, sin importar quién es $n$, se cumple $$\\binom{n}{0}+\\binom{n}{1}+\\binom{n}{2}+...+\\binom{n}{n}=2^n$$"
   ]
  },
  {
   "cell_type": "markdown",
   "metadata": {},
   "source": [
    "**Ejemplo 2.15**\n",
    "\n",
    "Si $X=\\{a,b,c,d,e\\}$, ¿cuántos subconjuntos de 3 elementos tiene?. ¿Cuántos subconjuntos contienen a las letras $a$ y $b$?"
   ]
  },
  {
   "cell_type": "markdown",
   "metadata": {},
   "source": [
    "**Ejemplo 2.16**\n",
    "\n",
    "De un grupo de 10 niños y 15 niñas se quiere formar una colección de 5 jóvenes que tenga exactamente 2 niñas. ¿Cuántas colecciones distintas se pueden hacer?\n",
    "\n",
    "\n"
   ]
  },
  {
   "cell_type": "markdown",
   "metadata": {},
   "source": [
    "**Ejemplo 2.17**\n",
    "\n",
    "De un grupo de 5 estudiantes quiere elegirse una comisión de 3. El estudiante $a$ irá al museo $A$; el $b$ irá al museo $B$ y el $c$ irá al museo $C$. ¿Cuántas comisiones diferentes se pueden hacer?\n",
    "\n",
    "Seleccionemos primero a los tres estudiantes: $\\binom{5}{3}$. Ya que los hemos seleccionado, tenemos que ver quién será el $a$, quién el $b$ y quién el $c$. Esto se hace de $3!$ formas.\n",
    "\n",
    "Por lo tanto hay $\\binom{5}{3}3!=60$ elecciones posibles."
   ]
  },
  {
   "cell_type": "markdown",
   "metadata": {},
   "source": [
    "**Ejemplo 2.18**\n",
    "\n",
    "¿Cuántas diagonales tiene un polígono de $n$ lados?"
   ]
  },
  {
   "cell_type": "markdown",
   "metadata": {},
   "source": [
    "**El pókar.**\n",
    "\n",
    "En la baraja usual de pókar, cada carta tiene un símbolo llamado *número* que puede ser cualquiera de los siguientes: A, 2, 3, 4, 5, 6, 7, 8, 9, 10, J, Q, K; y otro símbolo llamado *palo* que puede ser E (espada), T (trébol), C (corazón) o D (diamante). Todos los palos se combinan con todos los números, de modo que hay $4\\times 13=52$ cartas.\n",
    "\n",
    "Se llama *mano de pókar* a cualquier colección de 5 cartas. Por lo tanto hay $\\binom{52}{5}$ manos diferentes.\n",
    "\n",
    "Se tienen las siguientes manos especiales:\n",
    "- *par:* dos cartas del mismo número.\n",
    "- *tercia:* tres cartas del mismo número.\n",
    "- *pókar:* cuatro cartas del mismo número.\n",
    "- *full:* una tercia y un par.\n",
    "- *flor:* cinco cartas del mismo palo. "
   ]
  },
  {
   "cell_type": "markdown",
   "metadata": {},
   "source": [
    "**Ejemplo 2.19**\n",
    "\n",
    "¿Cuántas flores existen?\n",
    "\n",
    "Las flores se forman con 5 cartas del mismo palo.\n",
    "\n",
    "- Elegimos el palo: 4 opciones.\n",
    "- Elegimos los 5 números: $\\binom{13}{5}$\n",
    "\n",
    "Por lo tanto hay $4\\times\\binom{13}{5}=5148$ flores."
   ]
  },
  {
   "cell_type": "markdown",
   "metadata": {},
   "source": [
    "**Ejemplo 2.20**\n",
    "\n",
    "¿Cuántas manos son tercia?\n",
    "\n",
    "La tercia se forma con tres cartas con un mismo número en común, y las dos restantes no son iguales entre sí ni iguales a las tres que tienen el número en común.\n",
    "\n",
    "- Seleccionamos el número en común: 13 opciones.\n",
    "\n",
    "- Seleccionamos los tres palos que tendrán el valor en común: $\\binom{4}{3}$\n",
    "\n",
    "- De las dos cartas que nos faltan, lo único es que no pueden ser iguales entre sí ni iguales al número en común. Como ya seleccionamos el número en común, para tenemos 12 números restantes, así que seleccionamos $\\binom{12}{2}$\n",
    "\n",
    "- Finalmente, cada una de las dos cartas anteriores debe tener su palo: $4\\times4$.\n",
    "\n",
    "Por lo tanto hay $13\\binom{4}{3}\\binom{12}{2}4\\times4=54912$ tercias.\n"
   ]
  },
  {
   "cell_type": "markdown",
   "metadata": {},
   "source": [
    "## El Principio de Inclusión y Exclusión.\n",
    "\n",
    "Sea $A$ un conjunto finito, y denotemos por $|A|$ al total de elementos que tiene.\n",
    "\n",
    "Supongamos que tenemos $n$ conjuntos $A_1$, $A_2$,..., $A_n$ (posiblemente con elementos en común). Entonces \n",
    "\n",
    "\\begin{eqnarray}\n",
    "&&|A_1\\cup A_2\\cup...\\cup A_n|\\\\\n",
    "&=&|A_1|+|A_2|+...+|A_n|\\\\\n",
    "&&-|A_1\\cap A_2|-|A_1\\cap A_3|-...-|A_{n-1}\\cap A_{n}|\\\\\n",
    "&&+|A_1\\cap A_2\\cap A_3|+|A_1\\cap A_2\\cap A_4|+...+|A_{n-2}\\cap A_{n-1}\\cap A_n|\\\\\n",
    "&&\\vdots\\\\\n",
    "&&(-1)^{n+1}|A_1\\cap A_2\\cap...\\cap A_n|\n",
    "\\end{eqnarray}\n",
    "\n"
   ]
  },
  {
   "cell_type": "markdown",
   "metadata": {},
   "source": [
    "Por ejemplo, para dos conjuntos $A$ y $B$ tenemos:\n",
    "$$|A\\cup B|=|A|+|B|-|A\\cap B|$$\n",
    "\n",
    "Para tres conjuntos $A$, $B$ y $C$ tenemos:\n",
    "$$|A\\cup B\\cup C|=|A|+|B|+|C|-|A\\cap B|-|A\\cap C|-|B\\cap C|+|A\\cap B\\cap C|$$"
   ]
  },
  {
   "cell_type": "markdown",
   "metadata": {},
   "source": [
    "**Ejemplo**\n",
    "\n",
    "En una escuela hay 100 alumnos. De ellos, 50 saben inglés, 30 saben alemán y 30 saben francés. Además 10 saben inglés y francés, 14 saben francés y alemán, 11 saben inglés y alemán, y 6 saben los tres idiomas. ¿Cuántos no saben ninguno de los tres idiomas?\n",
    "\n",
    "**Solución.**\n",
    "\n",
    "Si $E$ es la escuela, $I$ los alumnos que saben inglés, $A$ los que saben alemán y $F$ los que saben francés, entonces los que sí hablan alguno de los tres idiomas es $I\\cup A\\cup F$. Por lo tanto:\n",
    "\n",
    "\\begin{eqnarray*}\n",
    "|I\\cup A\\cup F|&=&|I|+|A|+|F|\\\\\n",
    "&&-|I\\cap A|-|I\\cap F|-|A\\cap F|\\\\\n",
    "&&+|I\\cap A\\cap F|\\\\\n",
    "&=&50+30+30\\\\\n",
    "&&-11-10-14\\\\\n",
    "&&+6\\\\\n",
    "&=&81\n",
    "\\end{eqnarray*}\n",
    "\n",
    "Así, 81 alumnos saben alguno de los tres idiomas, de donde $100-81=19$ no hablan ninguno de los tres idiomas."
   ]
  }
 ],
 "metadata": {
  "kernelspec": {
   "display_name": "R",
   "language": "R",
   "name": "ir"
  },
  "language_info": {
   "codemirror_mode": "r",
   "file_extension": ".r",
   "mimetype": "text/x-r-source",
   "name": "R",
   "pygments_lexer": "r",
   "version": "3.6.1"
  }
 },
 "nbformat": 4,
 "nbformat_minor": 4
}
